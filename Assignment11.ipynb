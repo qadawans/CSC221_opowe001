{
  "nbformat": 4,
  "nbformat_minor": 0,
  "metadata": {
    "colab": {
      "provenance": [],
      "authorship_tag": "ABX9TyNm9UCPQn6H16TOMKQDxEg3",
      "include_colab_link": true
    },
    "kernelspec": {
      "name": "python3",
      "display_name": "Python 3"
    },
    "language_info": {
      "name": "python"
    }
  },
  "cells": [
    {
      "cell_type": "markdown",
      "metadata": {
        "id": "view-in-github",
        "colab_type": "text"
      },
      "source": [
        "<a href=\"https://colab.research.google.com/github/qadawans/CSC221_opowe001/blob/main/Assignment11.ipynb\" target=\"_parent\"><img src=\"https://colab.research.google.com/assets/colab-badge.svg\" alt=\"Open In Colab\"/></a>"
      ]
    },
    {
      "cell_type": "code",
      "execution_count": null,
      "metadata": {
        "colab": {
          "base_uri": "https://localhost:8080/"
        },
        "id": "Oirka18fY3Pz",
        "outputId": "ce96444c-6b45-4f5b-c08c-1c3af2f0554e"
      },
      "outputs": [
        {
          "output_type": "stream",
          "name": "stdout",
          "text": [
            "My dog's name is Willie.\n",
            "My dog is 6 years old.\n",
            "Willie is now sitting.\n",
            "Willie rolled over!\n",
            "\n",
            "Your dog's name is Lucy.\n",
            "Your dog is 3 years old.\n",
            "Lucy is now sitting.\n"
          ]
        }
      ],
      "source": [
        "# Example Code\n",
        "\n",
        "class Dog:\n",
        "\n",
        "  def __init__(self, name, age):\n",
        "    \"\"\"Initialize name and age attributes\"\"\"\n",
        "    self.name = name\n",
        "    self.age = age\n",
        "\n",
        "  def sit(self):\n",
        "    \"\"\"Simulate a dog sitting in response to a command.\"\"\"\n",
        "    print(f\"{self.name} is now sitting.\")\n",
        "\n",
        "  def roll_over(self):\n",
        "    \"\"\"Simulate rolling over in response to a command.\"\"\"\n",
        "    print(f\"{self.name} rolled over!\")\n",
        "\n",
        "my_dog = Dog('Willie', 6)\n",
        "your_dog = Dog('Lucy', 3)\n",
        "print(f\"My dog's name is {my_dog.name}.\")\n",
        "print(f\"My dog is {my_dog.age} years old.\")\n",
        "my_dog.sit()\n",
        "my_dog.roll_over()\n",
        "\n",
        "print(f\"\\nYour dog's name is {your_dog.name}.\")\n",
        "print(f\"Your dog is {your_dog.age} years old.\")\n",
        "your_dog.sit()\n"
      ]
    },
    {
      "cell_type": "code",
      "source": [
        "# 9-1\n",
        "\n",
        "class Restaurant():\n",
        "\n",
        "    def __init__(self, name, cuisine_type):\n",
        "        self.name = name.title()\n",
        "        self.cuisine_type = cuisine_type\n",
        "\n",
        "    def describe_restaurant(self):\n",
        "        msg = f\"{self.name} serves great {self.cuisine_type}.\"\n",
        "        print(f\"\\n{msg}\")\n",
        "\n",
        "    def open_restaurant(self):\n",
        "        msg = f\"{self.name} is now open.\"\n",
        "        print(f\"\\n{msg}\")\n",
        "\n",
        "restaurant = Restaurant('Pasta Palace', 'pasta')\n",
        "print(restaurant.name)\n",
        "print(restaurant.cuisine_type)\n",
        "\n",
        "restaurant.describe_restaurant()\n",
        "restaurant.open_restaurant()"
      ],
      "metadata": {
        "id": "eS-UqPAtbmF_",
        "colab": {
          "base_uri": "https://localhost:8080/"
        },
        "outputId": "bc313000-093d-43ed-b8a3-1df70bbeab1c"
      },
      "execution_count": null,
      "outputs": [
        {
          "output_type": "stream",
          "name": "stdout",
          "text": [
            "Pasta Palace\n",
            "pasta\n",
            "\n",
            "Pasta Palace serves great pasta.\n",
            "\n",
            "Pasta Palace is now open.\n"
          ]
        }
      ]
    },
    {
      "cell_type": "code",
      "source": [
        "# 9-2\n",
        "\n",
        "class Restaurant():\n",
        "\n",
        "    def __init__(self, name, cuisine_type):\n",
        "        self.name = name.title()\n",
        "        self.cuisine_type = cuisine_type\n",
        "\n",
        "    def describe_restaurant(self):\n",
        "        msg = f\"{self.name} serves great {self.cuisine_type}.\"\n",
        "        print(f\"\\n{msg}\")\n",
        "\n",
        "    def open_restaurant(self):\n",
        "        \"\"\"Display a message that the restaurant is open.\"\"\"\n",
        "        msg = f\"{self.name} is now open.\"\n",
        "        print(f\"\\n{msg}\")\n",
        "\n",
        "pasta_palace = Restaurant('Pasta Palace', 'pasta')\n",
        "pasta_palace.describe_restaurant()\n",
        "\n",
        "ice_igloo = Restaurant('Ice Igloo', 'ice cream')\n",
        "ice_igloo.describe_restaurant()\n",
        "\n",
        "chicken_castle = Restaurant('Chicken Castle', 'fried chicken')\n",
        "chicken_castle.describe_restaurant()"
      ],
      "metadata": {
        "colab": {
          "base_uri": "https://localhost:8080/"
        },
        "id": "ytHWQNiXA_9I",
        "outputId": "a8c9534d-f4e7-493f-9d06-5da00e777ef4"
      },
      "execution_count": null,
      "outputs": [
        {
          "output_type": "stream",
          "name": "stdout",
          "text": [
            "\n",
            "Pasta Palace serves great pasta.\n",
            "\n",
            "Ice Igloo serves great ice cream.\n",
            "\n",
            "Chicken Castle serves great fried chicken.\n"
          ]
        }
      ]
    },
    {
      "cell_type": "code",
      "source": [
        "# 9-3\n",
        "\n",
        "class User():\n",
        "\n",
        "  def __init__(self, first_name, last_name,  username, email, location):\n",
        "    self.first_name = first_name.title()\n",
        "    self.last_name = last_name.title()\n",
        "    self.username = username\n",
        "    self.email = email\n",
        "    self.location = location.title()\n",
        "\n",
        "  def describe_user(self):\n",
        "    print(f'\\n{self.first_name} {self.last_name}')\n",
        "    print(f'Username: {self.username}')\n",
        "    print(f'Email: {self.email}')\n",
        "    print(f'Location: {self.location}')\n",
        "\n",
        "  def greet_user(self):\n",
        "    print(f'Welcome back, {self.username}!')\n",
        "\n",
        "amy = User('amy', 'jackson', 'amyj', 'amyj@gmail.com', 'wisconsin')\n",
        "amy.greet_user()\n",
        "amy.describe_user()\n",
        "\n",
        "mark = User('mark', 'ruffalo', 'markruff', 'markruffalo@yahoo.com', 'LA')\n",
        "mark.greet_user()\n",
        "mark.describe_user()\n",
        "\n",
        "eric = User('eric', 'erikson', 'eriksonz', 'ericerikson@yandex.com', 'Russia')\n",
        "eric.greet_user()\n",
        "eric.describe_user()"
      ],
      "metadata": {
        "colab": {
          "base_uri": "https://localhost:8080/"
        },
        "id": "hPSU-6CHBwUZ",
        "outputId": "3c495f42-b15d-46f0-cffb-e64319d98e40"
      },
      "execution_count": null,
      "outputs": [
        {
          "output_type": "stream",
          "name": "stdout",
          "text": [
            "Welcome back, amyj!\n",
            "\n",
            "Amy Jackson\n",
            "Username: amyj\n",
            "Email: amyj@gmail.com\n",
            "Location: Wisconsin\n",
            "Welcome back, markruff!\n",
            "\n",
            "Mark Ruffalo\n",
            "Username: markruff\n",
            "Email: markruffalo@yahoo.com\n",
            "Location: La\n",
            "Welcome back, eriksonz!\n",
            "\n",
            "Eric Erikson\n",
            "Username: eriksonz\n",
            "Email: ericerikson@yandex.com\n",
            "Location: Russia\n"
          ]
        }
      ]
    },
    {
      "cell_type": "code",
      "source": [
        "# 9-6\n",
        "\n"
      ],
      "metadata": {
        "id": "l10pFTbEE_wz"
      },
      "execution_count": null,
      "outputs": []
    },
    {
      "cell_type": "code",
      "source": [
        "# 9-6\n",
        "\n",
        "class Restaurant():\n",
        "\n",
        "    def __init__(self, name, cuisine_type):\n",
        "        self.name = name.title()\n",
        "        self.cuisine_type = cuisine_type\n",
        "\n",
        "    def describe_restaurant(self):\n",
        "        msg = f\"{self.name} serves great {self.cuisine_type}.\"\n",
        "        print(f\"\\n{msg}\")\n",
        "\n",
        "    def open_restaurant(self):\n",
        "        msg = f\"{self.name} is now open.\"\n",
        "        print(f\"\\n{msg}\")\n",
        "\n",
        "class IceCream(Restaurant):\n",
        "\n",
        "  def __init__(self, name, cuisine_type='ice cream'):\n",
        "    super().__init__(name, cuisine_type)\n",
        "    self.flavors = []\n",
        "\n",
        "  def show_flavors(self):\n",
        "    print(\"\\n Today's flavors are as follows:\")\n",
        "    for flavor in self.flavors:\n",
        "      print(f\"- {flavor.title()}\")\n",
        "\n",
        "\n",
        "windchill = IceCream('The Wind-Chill Factory')\n",
        "windchill.flavors = ['vanilla', 'chocolate', 'cotton candy', 'twist']\n",
        "\n",
        "windchill.describe_restaurant()\n",
        "windchill.show_flavors()"
      ],
      "metadata": {
        "colab": {
          "base_uri": "https://localhost:8080/"
        },
        "outputId": "f24fd353-422b-4c85-8817-744c55947a38",
        "id": "pdR0gQ3dFRNQ"
      },
      "execution_count": null,
      "outputs": [
        {
          "output_type": "stream",
          "name": "stdout",
          "text": [
            "\n",
            "The Wind-Chill Factory serves great ice cream.\n",
            "\n",
            " Today's flavors are as follows:\n",
            "- Vanilla\n",
            "- Chocolate\n",
            "- Cotton Candy\n",
            "- Twist\n"
          ]
        }
      ]
    },
    {
      "cell_type": "code",
      "source": [
        "# 9-7\n",
        "\n",
        "class User():\n",
        "\n",
        "  def __init__(self, first_name, last_name,  username, email, location):\n",
        "    self.first_name = first_name.title()\n",
        "    self.last_name = last_name.title()\n",
        "    self.username = username\n",
        "    self.email = email\n",
        "    self.location = location.title()\n",
        "\n",
        "  def describe_user(self):\n",
        "    print(f'\\n{self.first_name} {self.last_name}')\n",
        "    print(f'Username: {self.username}')\n",
        "    print(f'Email: {self.email}')\n",
        "    print(f'Location: {self.location}')\n",
        "\n",
        "  def greet_user(self):\n",
        "    print(f'Welcome back, {self.username}!')\n",
        "\n",
        "class Admin(User):\n",
        "\n",
        "     def __init__(self, first_name, last_name, username, email, location):\n",
        "        \"\"\"Initialize the admin.\"\"\"\n",
        "        super().__init__(first_name, last_name, username, email, location)\n",
        "        self.privileges = []\n",
        "\n",
        "     def show_privileges(self):\n",
        "        \"\"\"Display the privileges this administrator has.\"\"\"\n",
        "        print(\"\\nPrivileges:\")\n",
        "        for privilege in self.privileges:\n",
        "            print(f\"- {privilege}\")\n",
        "\n",
        "kim = Admin('kim', 'powers', 'kpowers', 'kpowers@gmail.com', 'new york')\n",
        "kim.describe_user()\n",
        "\n",
        "kim.privileges = [\n",
        "    'can reset passwords',\n",
        "    'can moderate discussions',\n",
        "    'can suspend accounts',\n",
        "    ]\n",
        "\n",
        "kim.show_privileges()\n"
      ],
      "metadata": {
        "colab": {
          "base_uri": "https://localhost:8080/"
        },
        "id": "zsswRZEgHFco",
        "outputId": "6ef67e8f-23e0-4fd1-9152-bc236047f88b"
      },
      "execution_count": null,
      "outputs": [
        {
          "output_type": "stream",
          "name": "stdout",
          "text": [
            "\n",
            "Kim Powers\n",
            "Username: kpowers\n",
            "Email: kpowers@gmail.com\n",
            "Location: New York\n",
            "\n",
            "Privileges:\n",
            "- can reset passwords\n",
            "- can moderate discussions\n",
            "- can suspend accounts\n"
          ]
        }
      ]
    },
    {
      "cell_type": "code",
      "source": [
        "# Example Code\n",
        "\n",
        "class Car:\n",
        "\n",
        "  def __init__(self, make, model, year):\n",
        "    self.make = make\n",
        "    self.model = model\n",
        "    self.year = year\n",
        "    self.odometer_reading = 0\n",
        "\n",
        "  def get_descriptive_name(self):\n",
        "    long_name = f\"{self.year} {self.make} {self.model}\"\n",
        "    return long_name.title()\n",
        "\n",
        "  def update_odometer(self, mileage):\n",
        "    if mileage >= self.odometer_reading:\n",
        "      self.odometer_reading = mileage\n",
        "    else:\n",
        "      print(\"You can't roll back an odometer!\")\n",
        "\n",
        "  def increment_odometer(self, miles):\n",
        "    self.odometer_reading += miles\n",
        "\n",
        "  def read_odometer(self):\n",
        "    print(f\"This car has {self.odometer_reading} miles on it.\")\n",
        "\n",
        "my_new_car =  Car('audi', 'a4', 2024)\n",
        "print(my_new_car.get_descriptive_name())\n",
        "my_new_car.odometer_reading = 23\n",
        "my_new_car.update_odometer(23)\n",
        "my_new_car.read_odometer()\n",
        "\n",
        "my_used_car = Car('subaru', 'outback', 2019)\n",
        "print(my_used_car.get_descriptive_name())\n",
        "\n",
        "my_used_car.update_odometer(23_500)\n",
        "my_used_car.read_odometer()\n",
        "\n",
        "my_used_car.increment_odometer(100)\n",
        "my_used_car.read_odometer()"
      ],
      "metadata": {
        "id": "aouSrC5QH3ui",
        "colab": {
          "base_uri": "https://localhost:8080/"
        },
        "outputId": "f1c19303-a3b0-4867-b2ea-47de4df89d70"
      },
      "execution_count": 5,
      "outputs": [
        {
          "output_type": "stream",
          "name": "stdout",
          "text": [
            "2024 Audi A4\n",
            "This car has 23 miles on it.\n",
            "2019 Subaru Outback\n",
            "This car has 23500 miles on it.\n",
            "This car has 23600 miles on it.\n"
          ]
        }
      ]
    },
    {
      "cell_type": "code",
      "source": [
        "# Example Code\n",
        "\n",
        "class ElectricCar(Car):\n",
        "    \"\"\"Represent aspects of a car, specific to electric vehicles.\"\"\"\n",
        "    def __init__(self, make, model, year):\n",
        "        \"\"\"Initialize attributes of the parent class.\"\"\"\n",
        "        super().__init__(make, model, year)\n",
        "my_tesla = ElectricCar('tesla', 'model s', 2019)\n",
        "print(my_tesla.get_descriptive_name())\n",
        "\n",
        "elec_1=ElectricCar(\"Honda\",\"Civic\",2020)\n",
        "elec_1.make\n",
        "elec_1.read_odometer()"
      ],
      "metadata": {
        "colab": {
          "base_uri": "https://localhost:8080/"
        },
        "id": "M2zDMl4E_xAT",
        "outputId": "1ad9518e-dd8d-4253-c457-9efc68e3cbd4"
      },
      "execution_count": 6,
      "outputs": [
        {
          "output_type": "stream",
          "name": "stdout",
          "text": [
            "2019 Tesla Model S\n",
            "This car has 0 miles on it.\n"
          ]
        }
      ]
    },
    {
      "cell_type": "code",
      "source": [
        "# Example Code\n",
        "\n",
        "class ElectricCar(Car):\n",
        "    \"\"\"Represent aspects of a car, specific to electric vehicles.\"\"\"\n",
        "    def __init__(self, make, model, year):\n",
        "        \"\"\"Initialize attributes of the parent class.\"\"\"\n",
        "        super().__init__(make, model, year)\n",
        "        self.battery_size=75\n",
        "    def describe_battery(self):\n",
        "        \"\"\"Print a statement describing the battery size.\"\"\"\n",
        "        print(f\"This car has a {self.battery_size}-kWh battery.\")\n",
        "\n",
        "my_tesla = ElectricCar('tesla', 'model s', 2019)\n",
        "print(my_tesla.get_descriptive_name())\n",
        "my_tesla.describe_battery()"
      ],
      "metadata": {
        "colab": {
          "base_uri": "https://localhost:8080/"
        },
        "id": "7_zKQnMe_z_T",
        "outputId": "ba132fc3-3b4b-49e4-d5e8-27ca5626bbbe"
      },
      "execution_count": 8,
      "outputs": [
        {
          "output_type": "stream",
          "name": "stdout",
          "text": [
            "2019 Tesla Model S\n",
            "This car has a 75-kWh battery.\n"
          ]
        }
      ]
    }
  ]
}