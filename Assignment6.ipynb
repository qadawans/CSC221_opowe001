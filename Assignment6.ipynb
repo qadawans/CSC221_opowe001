{
  "nbformat": 4,
  "nbformat_minor": 0,
  "metadata": {
    "colab": {
      "provenance": [],
      "authorship_tag": "ABX9TyN4+1qaqfxIRZIBXo/MbTHq",
      "include_colab_link": true
    },
    "kernelspec": {
      "name": "python3",
      "display_name": "Python 3"
    },
    "language_info": {
      "name": "python"
    }
  },
  "cells": [
    {
      "cell_type": "markdown",
      "metadata": {
        "id": "view-in-github",
        "colab_type": "text"
      },
      "source": [
        "<a href=\"https://colab.research.google.com/github/qadawans/CSC221_opowe001/blob/main/Assignment6.ipynb\" target=\"_parent\"><img src=\"https://colab.research.google.com/assets/colab-badge.svg\" alt=\"Open In Colab\"/></a>"
      ]
    },
    {
      "cell_type": "code",
      "execution_count": 5,
      "metadata": {
        "colab": {
          "base_uri": "https://localhost:8080/"
        },
        "id": "ZbVUW7g-8WeQ",
        "outputId": "afd8315c-b7b4-4350-ec24-74710a3a6974"
      },
      "outputs": [
        {
          "output_type": "stream",
          "name": "stdout",
          "text": [
            "Is car == 'subaru'? I predict True.\n",
            "True\n",
            "\n",
            "Is car == 'audi'? I predict False.\n",
            "False\n",
            "Is dog == 'retriever'? I predict True.\n",
            "True\n",
            "Is dog == 'retriever'? I predict False.\n",
            "False\n",
            "Is cat == 'hairless'? I predict True.\n",
            "True\n",
            "Is cat == 'hairless'? I predict False.\n",
            "False\n",
            "Is hero == 'Daredevil'? I predict True.\n",
            "True\n",
            "Is hero == 'Daredevil'? I predict False.\n",
            "False\n",
            "Is horse == 'clydesdale'? I predict True.\n",
            "True\n",
            "Is horse == 'clydesdale'? I predict False.\n",
            "False\n"
          ]
        }
      ],
      "source": [
        "\n",
        "\n",
        "car = 'subaru'\n",
        "print(\"Is car == 'subaru'? I predict True.\")\n",
        "print(car == 'subaru')\n",
        "\n",
        "print(\"\\nIs car == 'audi'? I predict False.\")\n",
        "print(car == 'audi')\n",
        "\n",
        "dog = 'retriever'\n",
        "print(\"Is dog == 'retriever'? I predict True.\")\n",
        "print(dog == 'retriever')\n",
        "\n",
        "print(\"Is dog == 'retriever'? I predict False.\")\n",
        "print(dog == 'beagle')\n",
        "\n",
        "cat = 'hairless'\n",
        "print(\"Is cat == 'hairless'? I predict True.\")\n",
        "print(cat == 'hairless')\n",
        "\n",
        "\n",
        "print(\"Is cat == 'hairless'? I predict False.\")\n",
        "print(cat == 'shorthair')\n",
        "\n",
        "hero = 'Daredevil'\n",
        "print(\"Is hero == 'Daredevil'? I predict True.\")\n",
        "print(hero == 'Daredevil')\n",
        "\n",
        "print(\"Is hero == 'Daredevil'? I predict False.\")\n",
        "print(hero == 'iron man')\n",
        "\n",
        "horse = 'clydesdale'\n",
        "print(\"Is horse == 'clydesdale'? I predict True.\")\n",
        "print(horse == 'clydesdale')\n",
        "\n",
        "print(\"Is horse == 'clydesdale'? I predict False.\")\n",
        "print(horse == 'arabian')"
      ]
    },
    {
      "cell_type": "code",
      "source": [
        "taylor = 'swift'\n",
        "print(\"Is taylor == 'swift'?\")\n",
        "print(taylor == 'swift')\n",
        "\n",
        "ryan = 'reynolds'\n",
        "print(\"Is ryan == 'reynolds'?\")\n",
        "print(ryan == 'gosling')\n",
        "\n",
        "jeff = 'goldblum'\n",
        "print(\"Is jeff == 'goldblum'?\")\n",
        "print(jeff == 'goldblum')\n"
      ],
      "metadata": {
        "colab": {
          "base_uri": "https://localhost:8080/"
        },
        "id": "XUTfSrcA_uw8",
        "outputId": "b2131ba6-2c0c-4d03-9ab8-e51fd79947ab"
      },
      "execution_count": 9,
      "outputs": [
        {
          "output_type": "stream",
          "name": "stdout",
          "text": [
            "Is taylor == 'swift'?\n",
            "True\n",
            "Is ryan == 'reynolds'?\n",
            "False\n",
            "Is jeff == 'goldblum'?\n",
            "True\n"
          ]
        }
      ]
    },
    {
      "cell_type": "code",
      "source": [
        "alien_color = 'green'\n",
        "if alien_color == 'green':\n",
        "  print('You earned 5 points.')\n"
      ],
      "metadata": {
        "colab": {
          "base_uri": "https://localhost:8080/"
        },
        "id": "o6rmaaj9AerN",
        "outputId": "ea9b9d49-94aa-4ac1-8b38-843cf8c75c6b"
      },
      "execution_count": 10,
      "outputs": [
        {
          "output_type": "stream",
          "name": "stdout",
          "text": [
            "You earned 5 points.\n"
          ]
        }
      ]
    },
    {
      "cell_type": "code",
      "source": [
        "alien_color = 'yellow'\n",
        "if alien_color == 'red':\n",
        "  print('')\n",
        "\n"
      ],
      "metadata": {
        "id": "6j__L1a9A-Sg"
      },
      "execution_count": 12,
      "outputs": []
    },
    {
      "cell_type": "code",
      "source": [
        "age = input('How old are you? ')\n",
        "\n",
        "\n",
        "if int(age) < 2:\n",
        "  print(\"You are a baby.\")\n",
        "\n",
        "elif int(age) >= 2 and int(age) < 4:\n",
        "  print(\"You are a toddler.\")\n",
        "\n",
        "elif int(age) >= 4 and int(age) < 13:\n",
        "  print(\"You are a kid.\")\n",
        "\n",
        "elif int(age) >= 13 and int(age) < 20:\n",
        "  print(\"You are a teenager.\")\n",
        "\n",
        "elif int(age) >= 20 and int(age) < 65:\n",
        "  print(\"You are an adult.\")\n",
        "\n",
        "elif int(age) >= 65:\n",
        "  print(\"You are an elder.\")\n"
      ],
      "metadata": {
        "colab": {
          "base_uri": "https://localhost:8080/"
        },
        "id": "wfnrM75HBQyP",
        "outputId": "907125ed-e246-4099-91cf-df3c96c6c04b"
      },
      "execution_count": 22,
      "outputs": [
        {
          "output_type": "stream",
          "name": "stdout",
          "text": [
            "How old are you? 4\n",
            "You are a kid.\n"
          ]
        }
      ]
    },
    {
      "cell_type": "code",
      "source": [
        "# Problem: Ask user for their hair color and state what they are\n",
        "\n",
        "# Pseudocode: get input, evaluate input, print what kind of hair they have\n",
        "\n",
        "hair = input(\"What is your hair color? \")\n",
        "\n",
        "if hair == 'brown':\n",
        "  print('You are a brunette.')\n",
        "\n",
        "elif hair == 'blonde':\n",
        "  print('You are a blonde.')\n",
        "\n",
        "elif hair == 'red':\n",
        "  print('You are a ginger.')\n",
        "\n",
        "elif hair == 'orange':\n",
        "  print('You are a ginger.')\n",
        "\n",
        "else:\n",
        "  print(\"Please enter a hair color.\")"
      ],
      "metadata": {
        "colab": {
          "base_uri": "https://localhost:8080/"
        },
        "id": "40IMhXDVDAiO",
        "outputId": "04d0e282-6dca-47e5-f7ef-7cbd54c8a8d0"
      },
      "execution_count": 27,
      "outputs": [
        {
          "output_type": "stream",
          "name": "stdout",
          "text": [
            "What is your hair color? brown\n",
            "You are a brunette.\n"
          ]
        }
      ]
    },
    {
      "cell_type": "code",
      "source": [],
      "metadata": {
        "id": "q7c5EScsEFFp"
      },
      "execution_count": null,
      "outputs": []
    }
  ]
}