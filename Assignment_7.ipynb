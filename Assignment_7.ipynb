{
  "nbformat": 4,
  "nbformat_minor": 0,
  "metadata": {
    "colab": {
      "provenance": [],
      "authorship_tag": "ABX9TyPLusvuP7L2aHvON7h4dldw",
      "include_colab_link": true
    },
    "kernelspec": {
      "name": "python3",
      "display_name": "Python 3"
    },
    "language_info": {
      "name": "python"
    }
  },
  "cells": [
    {
      "cell_type": "markdown",
      "metadata": {
        "id": "view-in-github",
        "colab_type": "text"
      },
      "source": [
        "<a href=\"https://colab.research.google.com/github/qadawans/CSC221_opowe001/blob/main/Assignment_7.ipynb\" target=\"_parent\"><img src=\"https://colab.research.google.com/assets/colab-badge.svg\" alt=\"Open In Colab\"/></a>"
      ]
    },
    {
      "cell_type": "code",
      "execution_count": null,
      "metadata": {
        "colab": {
          "base_uri": "https://localhost:8080/"
        },
        "id": "6RNZfouZmwma",
        "outputId": "2e9b1c1d-e6e0-4c1c-da9c-7b914542b5f9"
      },
      "outputs": [
        {
          "output_type": "stream",
          "name": "stdout",
          "text": [
            "{'mom': 'kim', 'name': 'powers', 'city': 'ticonderoga'}\n"
          ]
        }
      ],
      "source": [
        "# 6-1\n",
        "\n",
        "person = {\n",
        "    'mom': 'kim',\n",
        "    'name': 'powers',\n",
        "    'city':\n",
        "    'ticonderoga'\n",
        "}\n",
        "\n",
        "print(person)"
      ]
    },
    {
      "cell_type": "code",
      "source": [
        "# 6-2\n",
        "\n",
        "numbers = {\n",
        "    'janessa': '7',\n",
        "    'lizzy': '3',\n",
        "    'jayden': '1',\n",
        "    'maddie': '6',\n",
        "    'liv': '4'\n",
        "}\n",
        "\n",
        "print(numbers['janessa'])\n",
        "print(numbers['lizzy'])\n",
        "print(numbers['jayden'])\n",
        "print(numbers['maddie'])\n",
        "print(numbers['liv'])"
      ],
      "metadata": {
        "colab": {
          "base_uri": "https://localhost:8080/"
        },
        "id": "ciBgh6Emnwm-",
        "outputId": "3c1a6666-dc48-4344-e563-b6b980fbc458"
      },
      "execution_count": null,
      "outputs": [
        {
          "output_type": "stream",
          "name": "stdout",
          "text": [
            "7\n",
            "3\n",
            "1\n",
            "6\n",
            "4\n"
          ]
        }
      ]
    },
    {
      "cell_type": "code",
      "source": [
        "# 6-3\n",
        "\n",
        "glossary = {\n",
        "    'print': 'writes something as output',\n",
        "    'while True': 'loops something in code',\n",
        "    'if': 'checks if a value meets a certain criteria',\n",
        "    'import': 'gets a tool not originally built into python',\n",
        "    'break': 'ends a loop'\n",
        "}\n",
        "\n",
        "print(f\"Print means: {glossary['print']}\\n\")\n",
        "print(f\"while True means: {glossary['while True']}\\n\")\n",
        "print(f\"if means: {glossary['if']}\\n\")\n",
        "print(f\"import means: {glossary['import']}\\n\")\n",
        "print(f\"break means: {glossary['break']}\\n\")\n"
      ],
      "metadata": {
        "colab": {
          "base_uri": "https://localhost:8080/"
        },
        "id": "CvqtU0_Fo8Xy",
        "outputId": "943bded6-7e94-4a05-8edd-0120c6b6f9b1"
      },
      "execution_count": null,
      "outputs": [
        {
          "output_type": "stream",
          "name": "stdout",
          "text": [
            "Print means: writes something as output\n",
            "\n",
            "while True means: loops something in code\n",
            "\n",
            "if means: checks if a value meets a certain criteria\n",
            "\n",
            "import means: gets a tool not originally built into python\n",
            "\n",
            "break means: ends a loop\n",
            "\n"
          ]
        }
      ]
    },
    {
      "cell_type": "code",
      "source": [
        "# 6-4\n",
        "\n",
        "glossary = {\n",
        "    'print': 'writes something as output',\n",
        "    'while True': 'loops something in code',\n",
        "    'if': 'checks if a value meets a certain criteria',\n",
        "    'import': 'gets a tool not originally built into python',\n",
        "    'break': 'ends a loop',\n",
        "    'def': 'define a function',\n",
        "    'del': 'delete an object',\n",
        "    'except': 'handles errors',\n",
        "    'and': 'logical operator',\n",
        "    'as': 'creates an alias name',\n",
        "\n",
        "}\n",
        "\n",
        "for word, definition in glossary.items():\n",
        "  print(word, definition)"
      ],
      "metadata": {
        "colab": {
          "base_uri": "https://localhost:8080/"
        },
        "id": "JzQI0es5snwM",
        "outputId": "5770c880-3d9c-42a3-e65f-3a3954340785"
      },
      "execution_count": null,
      "outputs": [
        {
          "output_type": "stream",
          "name": "stdout",
          "text": [
            "print writes something as output\n",
            "while True loops something in code\n",
            "if checks if a value meets a certain criteria\n",
            "import gets a tool not originally built into python\n",
            "break ends a loop\n",
            "def define a function\n",
            "del delete an object\n",
            "except handles errors\n",
            "and logical operator\n",
            "as creates an alias name\n"
          ]
        }
      ]
    },
    {
      "cell_type": "code",
      "source": [
        "# 6-11\n",
        "\n",
        "cities = {\n",
        "    'London': {\n",
        "        'country' : 'It is in England',\n",
        "        'population' : 'The population is 8.982 million',\n",
        "        'fact' : 'its a very gross city'\n",
        " },\n",
        "    'Istanbul': {\n",
        "\n",
        "     'country' : 'It is in Turkey',\n",
        "     'population' : 'The population is 15.46 million',\n",
        "     'fact' : 'It was once Constantinople'},\n",
        "\n",
        "    'Paris': {\n",
        "\n",
        "    'country' :  'It is in France',\n",
        "    'population' : 'The population is 67.75 million',\n",
        "    'fact' : 'It has the Eiffel Tower'},\n",
        "}\n",
        "\n",
        "\n",
        "print(f\"Here is some information about London. {cities['London']}\")\n",
        "print(f\"Here is some info about Istanbul. {cities['Istanbul']}\")\n",
        "print(f\"Here is some info about Paris. {cities['Paris']}\")"
      ],
      "metadata": {
        "colab": {
          "base_uri": "https://localhost:8080/"
        },
        "id": "__uyMqE9GqaV",
        "outputId": "fc5a30e2-47b4-4558-c981-ece8da7dd7b9"
      },
      "execution_count": 6,
      "outputs": [
        {
          "output_type": "stream",
          "name": "stdout",
          "text": [
            "Here is some information about London. {'country': 'It is in England', 'population': 'The population is 8.982 million', 'fact': 'its a very gross city'}\n",
            "Here is some info about Istanbul. {'country': 'It is in Turkey', 'population': 'The population is 15.46 million', 'fact': 'It was once Constantinople'}\n",
            "Here is some info about Paris. {'country': 'It is in France', 'population': 'The population is 67.75 million', 'fact': 'It has the Eiffel Tower'}\n"
          ]
        }
      ]
    },
    {
      "cell_type": "code",
      "source": [
        "%%file grades.txt\n",
        "bob, 92\n",
        "jake, 94\n",
        "eric, 23\n",
        "susan, 100\n",
        "mark, 56\n",
        "emily, 76\n",
        "aaron, 30"
      ],
      "metadata": {
        "colab": {
          "base_uri": "https://localhost:8080/"
        },
        "id": "IANck4DNZtcG",
        "outputId": "c6fc0e21-0d9d-4a93-81ab-7eb3c7d1449f"
      },
      "execution_count": 18,
      "outputs": [
        {
          "output_type": "stream",
          "name": "stdout",
          "text": [
            "Overwriting grades.txt\n"
          ]
        }
      ]
    },
    {
      "cell_type": "code",
      "source": [
        "\n",
        "with open('grades.txt', 'r') as file:\n",
        "    lines = file.readlines()\n",
        "\n",
        "grades_dict = {}\n",
        "\n",
        "\n",
        "for line in lines:\n",
        "    name, grade = line.strip().split(', ')\n",
        "    grades_dict[name] = int(grade)\n",
        "\n",
        "print(grades_dict)"
      ],
      "metadata": {
        "colab": {
          "base_uri": "https://localhost:8080/"
        },
        "id": "OuqOu1E_cG3a",
        "outputId": "27d84254-4c48-40e4-a432-c53fa18e2532"
      },
      "execution_count": 25,
      "outputs": [
        {
          "output_type": "stream",
          "name": "stdout",
          "text": [
            "{'bob': 92, 'jake': 94, 'eric': 23, 'susan': 100, 'mark': 56, 'emily': 76, 'aaron': 30}\n"
          ]
        }
      ]
    }
  ]
}