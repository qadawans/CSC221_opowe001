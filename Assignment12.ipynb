{
  "nbformat": 4,
  "nbformat_minor": 0,
  "metadata": {
    "colab": {
      "provenance": [],
      "authorship_tag": "ABX9TyNT969usvjWS1SCPOlCdq7I",
      "include_colab_link": true
    },
    "kernelspec": {
      "name": "python3",
      "display_name": "Python 3"
    },
    "language_info": {
      "name": "python"
    }
  },
  "cells": [
    {
      "cell_type": "markdown",
      "metadata": {
        "id": "view-in-github",
        "colab_type": "text"
      },
      "source": [
        "<a href=\"https://colab.research.google.com/github/qadawans/CSC221_opowe001/blob/main/Assignment12.ipynb\" target=\"_parent\"><img src=\"https://colab.research.google.com/assets/colab-badge.svg\" alt=\"Open In Colab\"/></a>"
      ]
    },
    {
      "cell_type": "code",
      "execution_count": 3,
      "metadata": {
        "colab": {
          "base_uri": "https://localhost:8080/"
        },
        "id": "GxwuwgXIkzel",
        "outputId": "63ac2e70-c05c-4c6f-b241-d26ddbb3c609"
      },
      "outputs": [
        {
          "output_type": "stream",
          "name": "stdout",
          "text": [
            "You have $ 16.310000000000002\n",
            "Wallet([One(1), Five(5), Ten(10), Penny(0.01), Nickel(0.05), Quarter(0.25)])\n",
            "You have $ 20\n"
          ]
        }
      ],
      "source": [
        "class Money:\n",
        "    def __init__(self, value):\n",
        "        self.value = value\n",
        "\n",
        "    def __repr__(self):\n",
        "        return f\"{self.__class__.__name__}({self.value})\"\n",
        "\n",
        "\n",
        "class Bills(Money):\n",
        "    pass\n",
        "\n",
        "\n",
        "class Coins(Money):\n",
        "    pass\n",
        "\n",
        "\n",
        "class One(Bills):\n",
        "    def __init__(self):\n",
        "        super().__init__(1)\n",
        "\n",
        "\n",
        "class Five(Bills):\n",
        "    def __init__(self):\n",
        "        super().__init__(5)\n",
        "\n",
        "\n",
        "class Ten(Bills):\n",
        "    def __init__(self):\n",
        "        super().__init__(10)\n",
        "\n",
        "\n",
        "class Twenty(Bills):\n",
        "    def __init__(self):\n",
        "        super().__init__(20)\n",
        "\n",
        "\n",
        "class Penny(Coins):\n",
        "    def __init__(self):\n",
        "        super().__init__(0.01)\n",
        "\n",
        "\n",
        "class Nickel(Coins):\n",
        "    def __init__(self):\n",
        "        super().__init__(0.05)\n",
        "\n",
        "\n",
        "class Dime(Coins):\n",
        "    def __init__(self):\n",
        "        super().__init__(0.10)\n",
        "\n",
        "\n",
        "class Quarter(Coins):\n",
        "    def __init__(self):\n",
        "        super().__init__(0.25)\n",
        "\n",
        "\n",
        "class Wallet:\n",
        "    def __init__(self):\n",
        "        self.money = []\n",
        "\n",
        "    def add_money(self, money):\n",
        "        self.money.append(money)\n",
        "\n",
        "    def total(self):\n",
        "        return sum(item.value for item in self.money)\n",
        "\n",
        "    def __repr__(self):\n",
        "        return f\"Wallet({self.money})\"\n",
        "\n",
        "\n",
        "# Testing\n",
        "wallet1 = Wallet()\n",
        "wallet1.add_money(One())\n",
        "wallet1.add_money(Five())\n",
        "wallet1.add_money(Ten())\n",
        "wallet1.add_money(Penny())\n",
        "wallet1.add_money(Nickel())\n",
        "wallet1.add_money(Quarter())\n",
        "print(f\"You have $ {wallet1.total()}\")  #\n",
        "print(wallet1)  # Output: Wallet([One(1), Five(5), Ten(10), Penny(0.01), Nickel(0.05), Quarter(0.25)])\n",
        "\n",
        "wallet2 =  Wallet()\n",
        "wallet2.add_money(Twenty())\n",
        "print(f\"You have $ {wallet2.total()}\")\n"
      ]
    },
    {
      "cell_type": "code",
      "source": [
        "# Example 2\n",
        "\n",
        "class Animal:\n",
        "    def __init__(self, name, sound):\n",
        "        self.name = name\n",
        "        self.sound = sound\n",
        "\n",
        "    def make_sound(self):\n",
        "        print(f\"{self.name} says {self.sound}\")\n",
        "\n",
        "    def __repr__(self):\n",
        "        return f\"{self.__class__.__name__}(Name: {self.name}, Sound: {self.sound})\"\n",
        "\n",
        "\n",
        "class Dog(Animal):\n",
        "    def __init__(self, name):\n",
        "        super().__init__(name, \"Woof\")\n",
        "\n",
        "    def wag_tail(self):\n",
        "        print(f\"{self.name} wags tail\")\n",
        "\n",
        "    def __repr__(self):\n",
        "        return f\"{super().__repr__()}\"\n",
        "\n",
        "\n",
        "class Cat(Animal):\n",
        "    def __init__(self, name):\n",
        "        super().__init__(name, \"Meow\")\n",
        "\n",
        "    def purr(self):\n",
        "        print(f\"{self.name} purrs\")\n",
        "\n",
        "    def __repr__(self):\n",
        "        return f\"{super().__repr__()}\"\n",
        "\n",
        "\n",
        "# Testing\n",
        "dog = Dog(\"Buddy\")\n",
        "cat = Cat(\"Whiskers\")\n",
        "\n",
        "dog.make_sound()\n",
        "dog.wag_tail()\n",
        "print(dog)\n",
        "\n",
        "cat.make_sound()\n",
        "cat.purr()\n",
        "print(cat)\n"
      ],
      "metadata": {
        "colab": {
          "base_uri": "https://localhost:8080/"
        },
        "id": "VJVGDKY-q9xo",
        "outputId": "e962f421-78f2-47fc-8953-59ca06fa40ad"
      },
      "execution_count": 6,
      "outputs": [
        {
          "output_type": "stream",
          "name": "stdout",
          "text": [
            "Buddy says Woof\n",
            "Buddy wags tail\n",
            "Dog(Name: Buddy, Sound: Woof)\n",
            "Whiskers says Meow\n",
            "Whiskers purrs\n",
            "Cat(Name: Whiskers, Sound: Meow)\n"
          ]
        }
      ]
    }
  ]
}