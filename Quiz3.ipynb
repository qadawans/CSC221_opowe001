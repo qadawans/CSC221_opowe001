{
  "nbformat": 4,
  "nbformat_minor": 0,
  "metadata": {
    "colab": {
      "provenance": [],
      "authorship_tag": "ABX9TyMYM76JHFFFPomuudB6vOst",
      "include_colab_link": true
    },
    "kernelspec": {
      "name": "python3",
      "display_name": "Python 3"
    },
    "language_info": {
      "name": "python"
    }
  },
  "cells": [
    {
      "cell_type": "markdown",
      "metadata": {
        "id": "view-in-github",
        "colab_type": "text"
      },
      "source": [
        "<a href=\"https://colab.research.google.com/github/qadawans/CSC221_opowe001/blob/main/Quiz3.ipynb\" target=\"_parent\"><img src=\"https://colab.research.google.com/assets/colab-badge.svg\" alt=\"Open In Colab\"/></a>"
      ]
    },
    {
      "cell_type": "code",
      "execution_count": 2,
      "metadata": {
        "colab": {
          "base_uri": "https://localhost:8080/"
        },
        "id": "iyUA1A2C5Id8",
        "outputId": "76d0a28a-3731-4bc5-b834-211fb6eb305f"
      },
      "outputs": [
        {
          "output_type": "stream",
          "name": "stdout",
          "text": [
            "Hello World!\n"
          ]
        }
      ],
      "source": [
        "# 1. Print\n",
        "\n",
        "print(\"Hello World!\")\n"
      ]
    },
    {
      "cell_type": "code",
      "source": [
        "# 2. Input\n",
        "\n",
        "name = input(\"What's your name?\")\n",
        "age = input(\"What's your age?\")\n",
        "\n",
        "print(f\"Hey, {name}! You're {age} years old!\")"
      ],
      "metadata": {
        "colab": {
          "base_uri": "https://localhost:8080/"
        },
        "id": "dkgoQwLm718u",
        "outputId": "585e7833-d03a-4d78-8b9d-4e22fb9cef2a"
      },
      "execution_count": 1,
      "outputs": [
        {
          "output_type": "stream",
          "name": "stdout",
          "text": [
            "What's your name?liv\n",
            "What's your age?19\n",
            "Hey, liv! You're 19 years old!\n"
          ]
        }
      ]
    },
    {
      "cell_type": "code",
      "source": [
        "# 3. Dict\n",
        "\n",
        "my_dict = dict({\"name\": \"liv\", \"age\": 19, \"city\": \"Plattsburgh\"})\n",
        "print(my_dict)\n"
      ],
      "metadata": {
        "id": "4xkHGtM48TTI"
      },
      "execution_count": null,
      "outputs": []
    },
    {
      "cell_type": "code",
      "source": [
        "# 4. Tuple\n",
        "my_list = [1, 2, 3, 4, 5]\n",
        "my_tuple = tuple(my_list)\n",
        "print(my_tuple)\n"
      ],
      "metadata": {
        "id": "ljyPVFNB8rjn"
      },
      "execution_count": null,
      "outputs": []
    },
    {
      "cell_type": "code",
      "source": [
        "# 5. Range\n",
        "my_range = range(5)\n",
        "print(list(my_range))\n"
      ],
      "metadata": {
        "id": "6lJIXr0u8yN2"
      },
      "execution_count": null,
      "outputs": []
    },
    {
      "cell_type": "code",
      "source": [
        "# 6. List\n",
        "my_string = \"hello\"\n",
        "my_list = list(my_string)\n",
        "print(my_list)\n"
      ],
      "metadata": {
        "id": "mwroZX2h9kcA"
      },
      "execution_count": null,
      "outputs": []
    },
    {
      "cell_type": "code",
      "source": [
        "# 7. Len\n",
        "\n",
        "my_string = \"hello\"\n",
        "string_length = len(my_string)\n",
        "print(\"Length of the string:\", string_length)\n",
        "\n",
        "my_list = [1, 2, 3, 4, 5]\n",
        "list_length = len(my_list)\n",
        "print(\"Length of the list:\", list_length)\n"
      ],
      "metadata": {
        "colab": {
          "base_uri": "https://localhost:8080/"
        },
        "id": "gRJBslK69u2E",
        "outputId": "91a888e8-43af-497e-f070-efa79dcfa56b"
      },
      "execution_count": 3,
      "outputs": [
        {
          "output_type": "stream",
          "name": "stdout",
          "text": [
            "Length of the string: 5\n",
            "Length of the list: 5\n"
          ]
        }
      ]
    },
    {
      "cell_type": "code",
      "source": [
        "# 8. Object\n",
        "\n",
        "class MyClass:\n",
        "    pass\n",
        "\n",
        "print(issubclass(MyClass, object))\n"
      ],
      "metadata": {
        "colab": {
          "base_uri": "https://localhost:8080/"
        },
        "id": "9P1o9ReU-yAD",
        "outputId": "256fe264-bb44-4d96-b304-7ec897d5fbb6"
      },
      "execution_count": 4,
      "outputs": [
        {
          "output_type": "stream",
          "name": "stdout",
          "text": [
            "True\n"
          ]
        }
      ]
    },
    {
      "cell_type": "code",
      "source": [
        "# 9. Locals\n",
        "\n",
        "x = 10\n",
        "y = 'hello'\n",
        "\n",
        "print(locals())\n"
      ],
      "metadata": {
        "id": "-7SN4u3R_Io6"
      },
      "execution_count": null,
      "outputs": []
    },
    {
      "cell_type": "code",
      "source": [
        "# 10. Bin\n",
        "number = 10\n",
        "binary_representation = bin(number)\n",
        "print(binary_representation)\n"
      ],
      "metadata": {
        "id": "pMBA2Li7_ag1"
      },
      "execution_count": 5,
      "outputs": []
    },
    {
      "cell_type": "code",
      "source": [
        "# 11. Hash\n",
        "\n",
        "print(hash(42))\n",
        "print(hash(\"hello\"))\n",
        "print(hash((1, 2, 3)))\n"
      ],
      "metadata": {
        "colab": {
          "base_uri": "https://localhost:8080/"
        },
        "id": "4qyl7mQYBGTZ",
        "outputId": "55ebc61a-e4fb-46f4-bbb4-0a0bb2c0559d"
      },
      "execution_count": 6,
      "outputs": [
        {
          "output_type": "stream",
          "name": "stdout",
          "text": [
            "42\n",
            "-1079129058508516784\n",
            "529344067295497451\n"
          ]
        }
      ]
    },
    {
      "cell_type": "code",
      "source": [
        "# 12. Set\n",
        "\n",
        "\n",
        "my_set = {1, 2, 3, 4, 5}\n",
        "print(my_set)\n",
        "\n",
        "my_set.add(6)\n",
        "print(my_set)\n",
        "\n",
        "my_set.remove(3)\n",
        "print(my_set)\n"
      ],
      "metadata": {
        "colab": {
          "base_uri": "https://localhost:8080/"
        },
        "id": "TVmsKI_NBRHS",
        "outputId": "e302a3d4-8a66-499c-89de-b3d1b3ab61ea"
      },
      "execution_count": 7,
      "outputs": [
        {
          "output_type": "stream",
          "name": "stdout",
          "text": [
            "{1, 2, 3, 4, 5}\n",
            "{1, 2, 3, 4, 5, 6}\n",
            "{1, 2, 4, 5, 6}\n"
          ]
        }
      ]
    },
    {
      "cell_type": "code",
      "source": [
        "# 13. Globals\n",
        "\n",
        "global_var = 42\n",
        "\n",
        "print(globals())\n"
      ],
      "metadata": {
        "id": "zuIK9EYmBhu3"
      },
      "execution_count": null,
      "outputs": []
    },
    {
      "cell_type": "code",
      "source": [
        "# 14. Str\n",
        "\n",
        "num = 42\n",
        "num_str = str(num)\n",
        "print(num_str)\n",
        "\n"
      ],
      "metadata": {
        "id": "csTsO7yuBtxR"
      },
      "execution_count": null,
      "outputs": []
    },
    {
      "cell_type": "code",
      "source": [
        "# 15. Eval\n",
        "\n",
        "expression = \"2 + 3 * 4\"\n",
        "result = eval(expression)\n",
        "print(result)\n"
      ],
      "metadata": {
        "colab": {
          "base_uri": "https://localhost:8080/"
        },
        "id": "aaz1839hB6f-",
        "outputId": "3559b7fd-77ee-4032-ee59-ea371a57fc3e"
      },
      "execution_count": 8,
      "outputs": [
        {
          "output_type": "stream",
          "name": "stdout",
          "text": [
            "14\n"
          ]
        }
      ]
    },
    {
      "cell_type": "code",
      "source": [
        "# 16. Float\n",
        "\n",
        "str_float = \"3.9\"\n",
        "num_float = float(str_float)\n",
        "print(num_float)\n"
      ],
      "metadata": {
        "colab": {
          "base_uri": "https://localhost:8080/"
        },
        "id": "4cgP4X5ICHWP",
        "outputId": "5d64cc24-27fb-4f7b-eb44-6c85d6146095"
      },
      "execution_count": 10,
      "outputs": [
        {
          "output_type": "stream",
          "name": "stdout",
          "text": [
            "3.9\n"
          ]
        }
      ]
    },
    {
      "cell_type": "code",
      "source": [
        "# 17. Format\n",
        "\n",
        "\n",
        "name = \"liv\"\n",
        "age = 19\n",
        "city = \"plattsburgh\"\n",
        "\n",
        "template = \"My name is {}, I am {} years old, and I live in {}.\"\n",
        "\n",
        "formatted_string = template.format(name, age, city)\n",
        "\n",
        "print(formatted_string)\n"
      ],
      "metadata": {
        "colab": {
          "base_uri": "https://localhost:8080/"
        },
        "id": "foMFIn4OCTaJ",
        "outputId": "322a8543-7bce-4769-c3e8-030991d1f6dd"
      },
      "execution_count": 11,
      "outputs": [
        {
          "output_type": "stream",
          "name": "stdout",
          "text": [
            "My name is liv, I am 19 years old, and I live in plattsburgh.\n"
          ]
        }
      ]
    },
    {
      "cell_type": "code",
      "source": [
        "# 18. Max\n",
        "\n",
        "numbers = [3, 7, 1, 9, 5]\n",
        "max_number = max(numbers)\n",
        "print(max_number)\n"
      ],
      "metadata": {
        "colab": {
          "base_uri": "https://localhost:8080/"
        },
        "id": "ltmyHRWwDJx0",
        "outputId": "3b166622-5e28-48b7-cf02-6a542906c2b4"
      },
      "execution_count": 12,
      "outputs": [
        {
          "output_type": "stream",
          "name": "stdout",
          "text": [
            "9\n"
          ]
        }
      ]
    },
    {
      "cell_type": "code",
      "source": [
        "# 19. Vars\n",
        "local_namespace = vars()\n",
        "print(local_namespace)\n"
      ],
      "metadata": {
        "colab": {
          "base_uri": "https://localhost:8080/"
        },
        "id": "mt5xtf4bDWLX",
        "outputId": "130cf04c-5f48-4409-b714-315d71a7ad2d"
      },
      "execution_count": 13,
      "outputs": [
        {
          "output_type": "stream",
          "name": "stdout",
          "text": [
            "{'__name__': '__main__', '__doc__': 'Automatically created module for IPython interactive environment', '__package__': None, '__loader__': None, '__spec__': None, '__builtin__': <module 'builtins' (built-in)>, '__builtins__': <module 'builtins' (built-in)>, '_ih': ['', '# Input\\n\\nname = input(\"What\\'s your name?\")\\nage = input(\"What\\'s your age?\")\\n\\nprint(f\"Hey, {name}! You\\'re {age} years old!\")', '# Print\\n\\nprint(\"Hello World!\")', '# 7. Len\\n\\nmy_string = \"hello\"\\nstring_length = len(my_string)\\nprint(\"Length of the string:\", string_length)\\n\\nmy_list = [1, 2, 3, 4, 5]\\nlist_length = len(my_list)\\nprint(\"Length of the list:\", list_length)', '# 8. Object\\n\\nclass MyClass:\\n    pass\\n\\nprint(issubclass(MyClass, object)) ', '# 10. Bin', '# 11. Hash\\n\\nprint(hash(42))  \\nprint(hash(\"hello\")) \\nprint(hash((1, 2, 3))) ', '# 12. Set\\n\\n\\nmy_set = {1, 2, 3, 4, 5}\\nprint(my_set)\\n\\nmy_set.add(6)\\nprint(my_set)\\n\\nmy_set.remove(3)\\nprint(my_set)', '# 15. Eval\\n\\nexpression = \"2 + 3 * 4\"\\nresult = eval(expression)\\nprint(result) ', '# 16. Float\\n\\nstr_float = \"34\"\\nnum_float = float(str_float)\\nprint(num_float)', '# 16. Float\\n\\nstr_float = \"3.9\"\\nnum_float = float(str_float)\\nprint(num_float)', '# 17. Format\\n\\n\\nname = \"liv\"\\nage = 19\\ncity = \"plattsburgh\"\\n\\ntemplate = \"My name is {}, I am {} years old, and I live in {}.\"\\n\\nformatted_string = template.format(name, age, city)\\n\\nprint(formatted_string)', '# 18. Max\\n\\nnumbers = [3, 7, 1, 9, 5]\\nmax_number = max(numbers)\\nprint(max_number)', '# 19. Vars\\nlocal_namespace = vars()\\nprint(local_namespace)'], '_oh': {}, '_dh': ['/content'], 'In': ['', '# Input\\n\\nname = input(\"What\\'s your name?\")\\nage = input(\"What\\'s your age?\")\\n\\nprint(f\"Hey, {name}! You\\'re {age} years old!\")', '# Print\\n\\nprint(\"Hello World!\")', '# 7. Len\\n\\nmy_string = \"hello\"\\nstring_length = len(my_string)\\nprint(\"Length of the string:\", string_length)\\n\\nmy_list = [1, 2, 3, 4, 5]\\nlist_length = len(my_list)\\nprint(\"Length of the list:\", list_length)', '# 8. Object\\n\\nclass MyClass:\\n    pass\\n\\nprint(issubclass(MyClass, object)) ', '# 10. Bin', '# 11. Hash\\n\\nprint(hash(42))  \\nprint(hash(\"hello\")) \\nprint(hash((1, 2, 3))) ', '# 12. Set\\n\\n\\nmy_set = {1, 2, 3, 4, 5}\\nprint(my_set)\\n\\nmy_set.add(6)\\nprint(my_set)\\n\\nmy_set.remove(3)\\nprint(my_set)', '# 15. Eval\\n\\nexpression = \"2 + 3 * 4\"\\nresult = eval(expression)\\nprint(result) ', '# 16. Float\\n\\nstr_float = \"34\"\\nnum_float = float(str_float)\\nprint(num_float)', '# 16. Float\\n\\nstr_float = \"3.9\"\\nnum_float = float(str_float)\\nprint(num_float)', '# 17. Format\\n\\n\\nname = \"liv\"\\nage = 19\\ncity = \"plattsburgh\"\\n\\ntemplate = \"My name is {}, I am {} years old, and I live in {}.\"\\n\\nformatted_string = template.format(name, age, city)\\n\\nprint(formatted_string)', '# 18. Max\\n\\nnumbers = [3, 7, 1, 9, 5]\\nmax_number = max(numbers)\\nprint(max_number)', '# 19. Vars\\nlocal_namespace = vars()\\nprint(local_namespace)'], 'Out': {}, 'get_ipython': <bound method InteractiveShell.get_ipython of <google.colab._shell.Shell object at 0x7b314840b7f0>>, 'exit': <IPython.core.autocall.ZMQExitAutocall object at 0x7b314840bd90>, 'quit': <IPython.core.autocall.ZMQExitAutocall object at 0x7b314840bd90>, '_': '', '__': '', '___': '', '_i': '# 18. Max\\n\\nnumbers = [3, 7, 1, 9, 5]\\nmax_number = max(numbers)\\nprint(max_number)', '_ii': '# 17. Format\\n\\n\\nname = \"liv\"\\nage = 19\\ncity = \"plattsburgh\"\\n\\ntemplate = \"My name is {}, I am {} years old, and I live in {}.\"\\n\\nformatted_string = template.format(name, age, city)\\n\\nprint(formatted_string)', '_iii': '# 16. Float\\n\\nstr_float = \"3.9\"\\nnum_float = float(str_float)\\nprint(num_float)', '_i1': '# Input\\n\\nname = input(\"What\\'s your name?\")\\nage = input(\"What\\'s your age?\")\\n\\nprint(f\"Hey, {name}! You\\'re {age} years old!\")', 'name': 'liv', 'age': 19, '_i2': '# Print\\n\\nprint(\"Hello World!\")', '_i3': '# 7. Len\\n\\nmy_string = \"hello\"\\nstring_length = len(my_string)\\nprint(\"Length of the string:\", string_length)\\n\\nmy_list = [1, 2, 3, 4, 5]\\nlist_length = len(my_list)\\nprint(\"Length of the list:\", list_length)', 'my_string': 'hello', 'string_length': 5, 'my_list': [1, 2, 3, 4, 5], 'list_length': 5, '_i4': '# 8. Object\\n\\nclass MyClass:\\n    pass\\n\\nprint(issubclass(MyClass, object)) ', 'MyClass': <class '__main__.MyClass'>, '_i5': '# 10. Bin', '_i6': '# 11. Hash\\n\\nprint(hash(42))  \\nprint(hash(\"hello\")) \\nprint(hash((1, 2, 3))) ', '_i7': '# 12. Set\\n\\n\\nmy_set = {1, 2, 3, 4, 5}\\nprint(my_set)\\n\\nmy_set.add(6)\\nprint(my_set)\\n\\nmy_set.remove(3)\\nprint(my_set)', 'my_set': {1, 2, 4, 5, 6}, '_i8': '# 15. Eval\\n\\nexpression = \"2 + 3 * 4\"\\nresult = eval(expression)\\nprint(result) ', 'expression': '2 + 3 * 4', 'result': 14, '_i9': '# 16. Float\\n\\nstr_float = \"34\"\\nnum_float = float(str_float)\\nprint(num_float)', 'str_float': '3.9', 'num_float': 3.9, '_i10': '# 16. Float\\n\\nstr_float = \"3.9\"\\nnum_float = float(str_float)\\nprint(num_float)', '_i11': '# 17. Format\\n\\n\\nname = \"liv\"\\nage = 19\\ncity = \"plattsburgh\"\\n\\ntemplate = \"My name is {}, I am {} years old, and I live in {}.\"\\n\\nformatted_string = template.format(name, age, city)\\n\\nprint(formatted_string)', 'city': 'plattsburgh', 'template': 'My name is {}, I am {} years old, and I live in {}.', 'formatted_string': 'My name is liv, I am 19 years old, and I live in plattsburgh.', '_i12': '# 18. Max\\n\\nnumbers = [3, 7, 1, 9, 5]\\nmax_number = max(numbers)\\nprint(max_number)', 'numbers': [3, 7, 1, 9, 5], 'max_number': 9, '_i13': '# 19. Vars\\nlocal_namespace = vars()\\nprint(local_namespace)', 'local_namespace': {...}}\n"
          ]
        }
      ]
    },
    {
      "cell_type": "code",
      "source": [
        "# 20. Enumerate\n",
        "\n",
        "my_list = ['apple', 'banana', 'orange']\n",
        "\n",
        "for index, value in enumerate(my_list):\n",
        "    print(index, value)\n"
      ],
      "metadata": {
        "colab": {
          "base_uri": "https://localhost:8080/"
        },
        "id": "BoYTuJifDl3H",
        "outputId": "665e3580-e1e8-4ebb-f19a-6d72fa9c3ccd"
      },
      "execution_count": 14,
      "outputs": [
        {
          "output_type": "stream",
          "name": "stdout",
          "text": [
            "0 apple\n",
            "1 banana\n",
            "2 orange\n"
          ]
        }
      ]
    }
  ]
}