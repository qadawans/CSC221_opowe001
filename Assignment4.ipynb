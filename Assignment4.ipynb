{
  "nbformat": 4,
  "nbformat_minor": 0,
  "metadata": {
    "colab": {
      "provenance": [],
      "authorship_tag": "ABX9TyNq1eozHnC0CqWvNLxkNacj",
      "include_colab_link": true
    },
    "kernelspec": {
      "name": "python3",
      "display_name": "Python 3"
    },
    "language_info": {
      "name": "python"
    }
  },
  "cells": [
    {
      "cell_type": "markdown",
      "metadata": {
        "id": "view-in-github",
        "colab_type": "text"
      },
      "source": [
        "<a href=\"https://colab.research.google.com/github/qadawans/CSC221_opowe001/blob/main/Assignment4.ipynb\" target=\"_parent\"><img src=\"https://colab.research.google.com/assets/colab-badge.svg\" alt=\"Open In Colab\"/></a>"
      ]
    },
    {
      "cell_type": "code",
      "execution_count": 1,
      "metadata": {
        "colab": {
          "base_uri": "https://localhost:8080/"
        },
        "id": "osUTLWWjZdRy",
        "outputId": "280f1515-d5d4-4165-e440-307aca6250c4"
      },
      "outputs": [
        {
          "output_type": "stream",
          "name": "stdout",
          "text": [
            "janessa\n",
            "maddie\n",
            "lizzy\n",
            "jayden\n"
          ]
        }
      ],
      "source": [
        "friends = ['janessa', 'maddie', 'lizzy', 'jayden']\n",
        "print(friends[0])\n",
        "print(friends[1])\n",
        "print(friends[2])\n",
        "print(friends[3])"
      ]
    },
    {
      "cell_type": "code",
      "source": [
        "friends = ['janessa', 'maddie', 'lizzy', 'jayden']\n",
        "print(f'hi, {friends[0].title()}')\n",
        "print(f'hi, {friends[1].title()}')\n",
        "print(f'hi, {friends[2].title()}')\n",
        "print(f'hi, {friends[3].title()}')"
      ],
      "metadata": {
        "colab": {
          "base_uri": "https://localhost:8080/"
        },
        "id": "k1j5PMyQaJTB",
        "outputId": "2765eb77-6ea6-4cc0-ec28-bad267a2b7c8"
      },
      "execution_count": 7,
      "outputs": [
        {
          "output_type": "stream",
          "name": "stdout",
          "text": [
            "hi, Janessa\n",
            "hi, Maddie\n",
            "hi, Lizzy\n",
            "hi, Jayden\n"
          ]
        }
      ]
    },
    {
      "cell_type": "code",
      "source": [
        "cars = ['Explorer', 'F150', 'Bronco', 'Jeep']\n",
        "print(f'My moms car is an {cars[0]}.')\n",
        "print(f'My dads car is a {cars[1]}.')\n",
        "print(f'My sister has a brand new {cars[2]}.')\n",
        "print(f'My dream car is a {cars[3]}, but my dad says they are not good cars.')"
      ],
      "metadata": {
        "colab": {
          "base_uri": "https://localhost:8080/"
        },
        "id": "oIyExhrXbC5Q",
        "outputId": "7bc0fe32-7691-4bd1-dd54-573a5c3b28ff"
      },
      "execution_count": 10,
      "outputs": [
        {
          "output_type": "stream",
          "name": "stdout",
          "text": [
            "My moms car is an Explorer.\n",
            "My dads car is a F150.\n",
            "My sister has a brand new Bronco.\n",
            "My dream car is a Jeep, but my dad says they are not good cars.\n"
          ]
        }
      ]
    },
    {
      "cell_type": "code",
      "source": [
        "dinner = ['Mom', 'Emmie', 'Amanda', 'Gma']\n",
        "print(f'Hi, {dinner[0]}. Do you want to come to dinner with me?')\n",
        "print(f'Hey, {dinner[1]}, wanna get dinner?')\n",
        "print(f'Hi {dinner[2]}, wanna go to dinner with me?')\n",
        "print(f'Hi, {dinner[3]}, want to get dinner with me? My treat.')"
      ],
      "metadata": {
        "colab": {
          "base_uri": "https://localhost:8080/"
        },
        "id": "VykwPRfcb3z7",
        "outputId": "4668bb8f-7bf4-4932-f292-339ef423bd15"
      },
      "execution_count": 12,
      "outputs": [
        {
          "output_type": "stream",
          "name": "stdout",
          "text": [
            "Hi, Mom. Do you want to come to dinner with me?\n",
            "Hey, Emmie, wanna get dinner?\n",
            "Hi Amanda, wanna go to dinner with me?\n",
            "Hi, Gma, want to get dinner with me? My treat.\n"
          ]
        }
      ]
    },
    {
      "cell_type": "code",
      "source": [
        "dinner = ['Mom', 'Emmie', 'Amanda', 'Gma']\n",
        "print(f'Hi, {dinner[0]}. Do you want to come to dinner with me?\\n')\n",
        "print(f'Hey, {dinner[1]}, wanna get dinner?\\n')\n",
        "print(f'Hi {dinner[2]}, wanna go to dinner with me?\\n')\n",
        "print(f'Hi, {dinner[3]}, want to get dinner with me? My treat.\\n')\n",
        "\n",
        "print('Gma can\\'t make it.')\n",
        "\n",
        "dinner[3] = 'Dad'\n",
        "print(dinner)\n",
        "\n",
        "print(f'Hi, {dinner[0]}. Do you want to come to dinner with me?\\n')\n",
        "print(f'Hey, {dinner[1]}, wanna get dinner?\\n')\n",
        "print(f'Hi {dinner[2]}, wanna go to dinner with me?\\n')\n",
        "print(f'Hi, {dinner[3]}, want to get dinner with me? My treat.\\n')"
      ],
      "metadata": {
        "colab": {
          "base_uri": "https://localhost:8080/"
        },
        "id": "OiwDe-o7cVuN",
        "outputId": "ff426ccd-bc73-4f3e-cbf3-fd94e414bf68"
      },
      "execution_count": 20,
      "outputs": [
        {
          "output_type": "stream",
          "name": "stdout",
          "text": [
            "Hi, Mom. Do you want to come to dinner with me?\n",
            "\n",
            "Hey, Emmie, wanna get dinner?\n",
            "\n",
            "Hi Amanda, wanna go to dinner with me?\n",
            "\n",
            "Hi, Gma, want to get dinner with me? My treat.\n",
            "\n",
            "Gma can't make it.\n",
            "['Mom', 'Emmie', 'Amanda', 'Dad']\n",
            "Hi, Mom. Do you want to come to dinner with me?\n",
            "Hey, Emmie, wanna get dinner?\n",
            "Hi Amanda, wanna go to dinner with me?\n",
            "Hi, Dad, want to get dinner with me? My treat.\n"
          ]
        }
      ]
    },
    {
      "cell_type": "code",
      "source": [
        "dinner = ['Mom', 'Emmie', 'Amanda', 'Gma']\n",
        "print(f'Hi, {dinner[0]}. Do you want to come to dinner with me?\\n')\n",
        "print(f'Hey, {dinner[1]}, wanna get dinner?\\n')\n",
        "print(f'Hi {dinner[2]}, wanna go to dinner with me?\\n')\n",
        "print(f'Hi, {dinner[3]}, want to get dinner with me? My treat.\\n')\n",
        "\n",
        "print('Gma can\\'t make it.')\n",
        "\n",
        "dinner[3] = 'Dad'\n",
        "print(dinner)\n",
        "\n",
        "print(f'Hi, {dinner[0]}. Do you want to come to dinner with me?\\n')\n",
        "print(f'Hey, {dinner[1]}, wanna get dinner?\\n')\n",
        "print(f'Hi {dinner[2]}, wanna go to dinner with me?\\n')\n",
        "print(f'Hi, {dinner[3]}, want to get dinner with me? My treat.\\n')\n",
        "\n",
        "print('I found a bigger table!')\n",
        "\n",
        "dinner.insert(0, 'Emma')\n",
        "dinner.insert(2, 'Jonathan')\n",
        "dinner.append('Tobey')\n",
        "\n",
        "print(f'Hi, {dinner[0]}. Do you want to come to dinner with me?\\n')\n",
        "print(f'Hey, {dinner[1]}, wanna get dinner?\\n')\n",
        "print(f'Hi {dinner[2]}, wanna go to dinner with me?\\n')\n",
        "print(f'Hi, {dinner[3]}, want to get dinner with me? My treat.\\n')\n",
        "print(f'Hi, {dinner[4]}, would you like to go to dinner?\\n')\n",
        "print(f'Hey, {dinner[5]}, do you want to come over for dinner?\\n')\n",
        "print(f'Hello, {dinner[6]}, wanna come over for dinner?\\n')"
      ],
      "metadata": {
        "colab": {
          "base_uri": "https://localhost:8080/"
        },
        "id": "2xqyn37Kd53t",
        "outputId": "725ab53f-a749-4188-cb84-bff6fb617909"
      },
      "execution_count": 26,
      "outputs": [
        {
          "output_type": "stream",
          "name": "stdout",
          "text": [
            "Hi, Mom. Do you want to come to dinner with me?\n",
            "\n",
            "Hey, Emmie, wanna get dinner?\n",
            "\n",
            "Hi Amanda, wanna go to dinner with me?\n",
            "\n",
            "Hi, Gma, want to get dinner with me? My treat.\n",
            "\n",
            "Gma can't make it.\n",
            "['Mom', 'Emmie', 'Amanda', 'Dad']\n",
            "Hi, Mom. Do you want to come to dinner with me?\n",
            "\n",
            "Hey, Emmie, wanna get dinner?\n",
            "\n",
            "Hi Amanda, wanna go to dinner with me?\n",
            "\n",
            "Hi, Dad, want to get dinner with me? My treat.\n",
            "\n",
            "I found a bigger table!\n",
            "Hi, Emma. Do you want to come to dinner with me?\n",
            "\n",
            "Hey, Mom, wanna get dinner?\n",
            "\n",
            "Hi Jonathan, wanna go to dinner with me?\n",
            "\n",
            "Hi, Emmie, want to get dinner with me? My treat.\n",
            "\n",
            "Hi, Amanda, would you like to go to dinner?\n",
            "\n",
            "Hey, Dad, do you want to come over for dinner?\n",
            "\n",
            "Hello, Tobey, wanna come over for dinner?\n"
          ]
        }
      ]
    },
    {
      "cell_type": "code",
      "source": [
        "dinner = ['Mom', 'Emmie', 'Amanda', 'Gma']\n",
        "print(f'Hi, {dinner[0]}. Do you want to come to dinner with me?\\n')\n",
        "print(f'Hey, {dinner[1]}, wanna get dinner?\\n')\n",
        "print(f'Hi {dinner[2]}, wanna go to dinner with me?\\n')\n",
        "print(f'Hi, {dinner[3]}, want to get dinner with me? My treat.\\n')\n",
        "\n",
        "print('Gma can\\'t make it.')\n",
        "\n",
        "dinner[3] = 'Dad'\n",
        "print(dinner)\n",
        "\n",
        "print(f'Hi, {dinner[0]}. Do you want to come to dinner with me?\\n')\n",
        "print(f'Hey, {dinner[1]}, wanna get dinner?\\n')\n",
        "print(f'Hi {dinner[2]}, wanna go to dinner with me?\\n')\n",
        "print(f'Hi, {dinner[3]}, want to get dinner with me? My treat.\\n')\n",
        "\n",
        "print('I found a bigger table!')\n",
        "\n",
        "dinner.insert(0, 'Emma')\n",
        "dinner.insert(2, 'Jonathan')\n",
        "dinner.append('Tobey')\n",
        "\n",
        "print(f'Hi, {dinner[0]}. Do you want to come to dinner with me?\\n')\n",
        "print(f'Hey, {dinner[1]}, wanna get dinner?\\n')\n",
        "print(f'Hi {dinner[2]}, wanna go to dinner with me?\\n')\n",
        "print(f'Hi, {dinner[3]}, want to get dinner with me? My treat.\\n')\n",
        "print(f'Hi, {dinner[4]}, would you like to go to dinner?\\n')\n",
        "print(f'Hey, {dinner[5]}, do you want to come over for dinner?\\n')\n",
        "print(f'Hello, {dinner[6]}, wanna come over for dinner?\\n')\n",
        "\n",
        "\n",
        "print(f'Sorry, {dinner[6]}, I don\\'t have enough space.')\n",
        "popped_dinner = dinner.pop()\n",
        "\n",
        "print(f'Sorry, {dinner[5]}, I don\\'t have enough space.')\n",
        "popped_dinner = dinner.pop()\n",
        "\n",
        "print(f'Sorry, {dinner[4]}, I don\\'t have enough space.')\n",
        "popped_dinner = dinner.pop()\n",
        "\n",
        "print(f'Sorry, {dinner[3]}, I don\\'t have enough space.')\n",
        "popped_dinner = dinner.pop()\n",
        "\n",
        "print(f'Sorry, {dinner[2]}, I don\\'t have enough space.\\n')\n",
        "popped_dinner = dinner.pop()\n",
        "\n",
        "print(f'Hello, {dinner[1]} and {dinner[0]}. You\\'re still invited.\\n')\n",
        "del dinner[1]\n",
        "del dinner[0]\n",
        "\n",
        "\n",
        "print(dinner)"
      ],
      "metadata": {
        "colab": {
          "base_uri": "https://localhost:8080/"
        },
        "id": "qAsbzF6Cf2Ba",
        "outputId": "fd177476-a89f-461c-c649-03d4fda937e1"
      },
      "execution_count": 43,
      "outputs": [
        {
          "output_type": "stream",
          "name": "stdout",
          "text": [
            "Hi, Mom. Do you want to come to dinner with me?\n",
            "\n",
            "Hey, Emmie, wanna get dinner?\n",
            "\n",
            "Hi Amanda, wanna go to dinner with me?\n",
            "\n",
            "Hi, Gma, want to get dinner with me? My treat.\n",
            "\n",
            "Gma can't make it.\n",
            "['Mom', 'Emmie', 'Amanda', 'Dad']\n",
            "Hi, Mom. Do you want to come to dinner with me?\n",
            "\n",
            "Hey, Emmie, wanna get dinner?\n",
            "\n",
            "Hi Amanda, wanna go to dinner with me?\n",
            "\n",
            "Hi, Dad, want to get dinner with me? My treat.\n",
            "\n",
            "I found a bigger table!\n",
            "Hi, Emma. Do you want to come to dinner with me?\n",
            "\n",
            "Hey, Mom, wanna get dinner?\n",
            "\n",
            "Hi Jonathan, wanna go to dinner with me?\n",
            "\n",
            "Hi, Emmie, want to get dinner with me? My treat.\n",
            "\n",
            "Hi, Amanda, would you like to go to dinner?\n",
            "\n",
            "Hey, Dad, do you want to come over for dinner?\n",
            "\n",
            "Hello, Tobey, wanna come over for dinner?\n",
            "\n",
            "Sorry, Tobey, I don't have enough space.\n",
            "Sorry, Dad, I don't have enough space.\n",
            "Sorry, Amanda, I don't have enough space.\n",
            "Sorry, Emmie, I don't have enough space.\n",
            "Sorry, Jonathan, I don't have enough space.\n",
            "\n",
            "Hello, Mom and Emma. You're still invited.\n",
            "\n",
            "[]\n"
          ]
        }
      ]
    },
    {
      "cell_type": "code",
      "source": [
        "locations = ['London', 'Athens', 'Los Angeles', 'Tokyo', 'Seoul']\n",
        "print(locations)\n",
        "print(sorted(locations))\n",
        "print(locations)\n",
        "locations.reverse()\n",
        "print(locations)\n",
        "locations.reverse()\n",
        "print(locations)\n",
        "locations.sort()\n",
        "print(locations)\n",
        "locations.sort(reverse=True)\n",
        "print(locations)"
      ],
      "metadata": {
        "colab": {
          "base_uri": "https://localhost:8080/"
        },
        "id": "R36ZTSrniNa-",
        "outputId": "5df2fe19-6b45-42b5-c3bf-856b6a76e8e8"
      },
      "execution_count": 41,
      "outputs": [
        {
          "output_type": "stream",
          "name": "stdout",
          "text": [
            "['London', 'Athens', 'Los Angeles', 'Tokyo', 'Seoul']\n",
            "['Athens', 'London', 'Los Angeles', 'Seoul', 'Tokyo']\n",
            "['London', 'Athens', 'Los Angeles', 'Tokyo', 'Seoul']\n",
            "['Seoul', 'Tokyo', 'Los Angeles', 'Athens', 'London']\n",
            "['London', 'Athens', 'Los Angeles', 'Tokyo', 'Seoul']\n",
            "['Athens', 'London', 'Los Angeles', 'Seoul', 'Tokyo']\n",
            "['Tokyo', 'Seoul', 'Los Angeles', 'London', 'Athens']\n"
          ]
        }
      ]
    },
    {
      "cell_type": "code",
      "source": [
        "dinner = ['Mom', 'Emmie', 'Amanda', 'Gma']\n",
        "len(dinner)"
      ],
      "metadata": {
        "colab": {
          "base_uri": "https://localhost:8080/"
        },
        "id": "xF4YIu-rjo_Y",
        "outputId": "02af5ccf-5d71-4064-8336-28c88c128970"
      },
      "execution_count": 42,
      "outputs": [
        {
          "output_type": "execute_result",
          "data": {
            "text/plain": [
              "4"
            ]
          },
          "metadata": {},
          "execution_count": 42
        }
      ]
    },
    {
      "cell_type": "code",
      "source": [
        "superheroes = ['Batman', 'Captain America', 'Superman', 'Green Arrow', 'Iron Man']\n",
        "print(superheroes)\n",
        "superheroes[3] = 'Arsenal'\n",
        "print(superheroes)\n",
        "superheroes.append('Hawkeye')\n",
        "print(superheroes)\n",
        "superheroes.insert(0, 'Stargirl')\n",
        "print(superheroes)\n",
        "del superheroes[5]\n",
        "print(superheroes)\n",
        "popped_superheroes = superheroes.pop()\n",
        "print(superheroes)\n",
        "popped_superheroes = superheroes.pop(3)\n",
        "print(superheroes)\n",
        "popped_superheroes = superheroes.pop(1)\n",
        "print(superheroes)\n",
        "superheroes.sort()\n",
        "print(superheroes)\n",
        "superheroes.reverse()\n",
        "print(superheroes)\n",
        "len(superheroes)"
      ],
      "metadata": {
        "colab": {
          "base_uri": "https://localhost:8080/"
        },
        "id": "NlFCyyS5j00P",
        "outputId": "14913938-2510-4990-e5da-8809cfef14da"
      },
      "execution_count": 50,
      "outputs": [
        {
          "output_type": "stream",
          "name": "stdout",
          "text": [
            "['Batman', 'Captain America', 'Superman', 'Green Arrow', 'Iron Man']\n",
            "['Batman', 'Captain America', 'Superman', 'Arsenal', 'Iron Man']\n",
            "['Batman', 'Captain America', 'Superman', 'Arsenal', 'Iron Man', 'Hawkeye']\n",
            "['Stargirl', 'Batman', 'Captain America', 'Superman', 'Arsenal', 'Iron Man', 'Hawkeye']\n",
            "['Stargirl', 'Batman', 'Captain America', 'Superman', 'Arsenal', 'Hawkeye']\n",
            "['Stargirl', 'Batman', 'Captain America', 'Superman', 'Arsenal']\n",
            "['Stargirl', 'Batman', 'Captain America', 'Arsenal']\n",
            "['Stargirl', 'Captain America', 'Arsenal']\n",
            "['Arsenal', 'Captain America', 'Stargirl']\n",
            "['Stargirl', 'Captain America', 'Arsenal']\n"
          ]
        },
        {
          "output_type": "execute_result",
          "data": {
            "text/plain": [
              "3"
            ]
          },
          "metadata": {},
          "execution_count": 50
        }
      ]
    }
  ]
}