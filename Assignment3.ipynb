{
  "nbformat": 4,
  "nbformat_minor": 0,
  "metadata": {
    "colab": {
      "provenance": [],
      "authorship_tag": "ABX9TyOhhTf7rX/wVcjD4elgFn80",
      "include_colab_link": true
    },
    "kernelspec": {
      "name": "python3",
      "display_name": "Python 3"
    },
    "language_info": {
      "name": "python"
    }
  },
  "cells": [
    {
      "cell_type": "markdown",
      "metadata": {
        "id": "view-in-github",
        "colab_type": "text"
      },
      "source": [
        "<a href=\"https://colab.research.google.com/github/qadawans/CSC221_opowe001/blob/main/Assignment3.ipynb\" target=\"_parent\"><img src=\"https://colab.research.google.com/assets/colab-badge.svg\" alt=\"Open In Colab\"/></a>"
      ]
    },
    {
      "cell_type": "code",
      "execution_count": 4,
      "metadata": {
        "colab": {
          "base_uri": "https://localhost:8080/"
        },
        "id": "HEno6ij0fsg_",
        "outputId": "ed13c3f5-9688-4a4d-c63d-efaacb1b21b4"
      },
      "outputs": [
        {
          "output_type": "stream",
          "name": "stdout",
          "text": [
            "Hello World!\n"
          ]
        }
      ],
      "source": [
        "x = \"Hello World!\"\n",
        "print(x)"
      ]
    },
    {
      "cell_type": "code",
      "source": [
        "x = \"Howdy!\"\n",
        "print(x)\n"
      ],
      "metadata": {
        "colab": {
          "base_uri": "https://localhost:8080/"
        },
        "id": "ncEyUVC1gZLg",
        "outputId": "d977fb83-5b4f-4da7-c780-81641120dd22"
      },
      "execution_count": 6,
      "outputs": [
        {
          "output_type": "stream",
          "name": "stdout",
          "text": [
            "Howdy!\n"
          ]
        }
      ]
    },
    {
      "cell_type": "code",
      "source": [
        "name = \"Liv\"\n",
        "print(f\"Hello, {name}!\")"
      ],
      "metadata": {
        "colab": {
          "base_uri": "https://localhost:8080/"
        },
        "id": "FN2Rm-J3g0fy",
        "outputId": "c8e36986-36d8-4363-a8de-1931d89c73f2"
      },
      "execution_count": 11,
      "outputs": [
        {
          "output_type": "stream",
          "name": "stdout",
          "text": [
            "Hello, Liv!\n"
          ]
        }
      ]
    },
    {
      "cell_type": "code",
      "source": [
        "name = \"Liv Powers\"\n",
        "print(name.upper())\n",
        "print(name.lower())\n",
        "print(name.title())"
      ],
      "metadata": {
        "colab": {
          "base_uri": "https://localhost:8080/"
        },
        "id": "DlZvQBUihdTY",
        "outputId": "300d6237-5e2f-4344-de3d-b09f9618f26b"
      },
      "execution_count": 12,
      "outputs": [
        {
          "output_type": "stream",
          "name": "stdout",
          "text": [
            "LIV POWERS\n",
            "liv powers\n",
            "Liv Powers\n"
          ]
        }
      ]
    },
    {
      "cell_type": "code",
      "source": [
        "print(f'Cersei Lannister of Game of Thrones once said, \"When you play the game of thrones, you either win or you die.\"')"
      ],
      "metadata": {
        "colab": {
          "base_uri": "https://localhost:8080/"
        },
        "id": "0NK7lImKhvXz",
        "outputId": "c00f812d-acf2-4a92-c8f2-f4eb8f587db3"
      },
      "execution_count": 13,
      "outputs": [
        {
          "output_type": "stream",
          "name": "stdout",
          "text": [
            "Cersei Lannister of Game of Thrones once said, \"When you play the game of thrones, you either win or you die.\"\n"
          ]
        }
      ]
    },
    {
      "cell_type": "code",
      "source": [
        "famous_person = \"Cersei Lannister\"\n",
        "message = '\"When you play the game of thrones, you either win or you die.\"'\n",
        "print(f'{famous_person} once said, {message}')"
      ],
      "metadata": {
        "colab": {
          "base_uri": "https://localhost:8080/"
        },
        "id": "AvNAFlGCiq3g",
        "outputId": "b78001b3-ab4d-4b14-b8d0-49f40f320789"
      },
      "execution_count": 15,
      "outputs": [
        {
          "output_type": "stream",
          "name": "stdout",
          "text": [
            "Cersei Lannister once said, \"When you play the game of thrones, you either win or you die.\"\n"
          ]
        }
      ]
    },
    {
      "cell_type": "code",
      "source": [
        "name = \"Liv\"\n",
        "print(f'\\t{name}')\n",
        "print(f'\\n{name}')\n",
        "print(f'{name.rstrip()}')\n",
        "print(f'{name.lstrip()}')\n",
        "print(f'{name.strip()}')"
      ],
      "metadata": {
        "colab": {
          "base_uri": "https://localhost:8080/"
        },
        "id": "wF-ZwsubjBtD",
        "outputId": "aef93072-510e-4671-aeb8-400020a81a4b"
      },
      "execution_count": 20,
      "outputs": [
        {
          "output_type": "stream",
          "name": "stdout",
          "text": [
            "\tLiv\n",
            "\n",
            "Liv\n",
            "Liv\n",
            "Liv\n",
            "Liv\n"
          ]
        }
      ]
    },
    {
      "cell_type": "code",
      "source": [
        "filename = 'python_notes.txt'\n",
        "# Remove .txt\n",
        "print(filename.removesuffix('.txt'))"
      ],
      "metadata": {
        "colab": {
          "base_uri": "https://localhost:8080/"
        },
        "id": "eOYq2vgelDAp",
        "outputId": "9ae3da6a-933a-44f6-9d22-478e29d091ce"
      },
      "execution_count": 31,
      "outputs": [
        {
          "output_type": "stream",
          "name": "stdout",
          "text": [
            "python_notes\n"
          ]
        }
      ]
    },
    {
      "cell_type": "code",
      "source": [
        "# All of these equal 8\n",
        "print(4*2)\n",
        "print(4+4)\n",
        "print(9-1)\n",
        "print(10-2)"
      ],
      "metadata": {
        "colab": {
          "base_uri": "https://localhost:8080/"
        },
        "id": "rTWUx87Zo03X",
        "outputId": "bdc0dffb-c954-41b5-b96d-959cbf3e8721"
      },
      "execution_count": 30,
      "outputs": [
        {
          "output_type": "stream",
          "name": "stdout",
          "text": [
            "8\n",
            "8\n",
            "8\n",
            "8\n"
          ]
        }
      ]
    },
    {
      "cell_type": "code",
      "source": [
        "fav = 4760\n",
        "print(f'My favorite number is {fav}!')"
      ],
      "metadata": {
        "colab": {
          "base_uri": "https://localhost:8080/"
        },
        "id": "8N0DnC5HpBKF",
        "outputId": "7b01e326-eed7-4fa1-99cd-ab49d714f8b9"
      },
      "execution_count": 29,
      "outputs": [
        {
          "output_type": "stream",
          "name": "stdout",
          "text": [
            "My favorite number is 4760!\n"
          ]
        }
      ]
    },
    {
      "cell_type": "code",
      "source": [
        "import this\n"
      ],
      "metadata": {
        "id": "NTZ5mMXzpH2s"
      },
      "execution_count": null,
      "outputs": []
    }
  ]
}