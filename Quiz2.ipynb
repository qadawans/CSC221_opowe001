{
  "nbformat": 4,
  "nbformat_minor": 0,
  "metadata": {
    "colab": {
      "provenance": [],
      "authorship_tag": "ABX9TyMjNDweFX9QqB8Kr0K6j1/I",
      "include_colab_link": true
    },
    "kernelspec": {
      "name": "python3",
      "display_name": "Python 3"
    },
    "language_info": {
      "name": "python"
    }
  },
  "cells": [
    {
      "cell_type": "markdown",
      "metadata": {
        "id": "view-in-github",
        "colab_type": "text"
      },
      "source": [
        "<a href=\"https://colab.research.google.com/github/qadawans/CSC221_opowe001/blob/main/Quiz2.ipynb\" target=\"_parent\"><img src=\"https://colab.research.google.com/assets/colab-badge.svg\" alt=\"Open In Colab\"/></a>"
      ]
    },
    {
      "cell_type": "code",
      "execution_count": 4,
      "metadata": {
        "colab": {
          "base_uri": "https://localhost:8080/"
        },
        "id": "Jvq0AnmC4aid",
        "outputId": "0f00ab89-6ac6-4bef-c71f-d7aca8664463"
      },
      "outputs": [
        {
          "output_type": "stream",
          "name": "stdout",
          "text": [
            "Maximum number: 8\n",
            "Maximum number in an empty list: None\n"
          ]
        }
      ],
      "source": [
        "# None\n",
        "\n",
        "# Function to find the maximum number in a list\n",
        "def find_max(numbers):\n",
        "    if not numbers:\n",
        "        return None\n",
        "    max_num = numbers[0]\n",
        "    for num in numbers:\n",
        "        if num > max_num:\n",
        "            max_num = num\n",
        "    return max_num\n",
        "\n",
        "# Example usage\n",
        "numbers_list = [3, 8, 1, 6, 2]\n",
        "print(\"Maximum number:\", find_max(numbers_list))\n",
        "\n",
        "empty_list = []\n",
        "print(\"Maximum number in an empty list:\", find_max(empty_list))\n"
      ]
    },
    {
      "cell_type": "code",
      "source": [
        "# Break\n",
        "\n",
        "# Loop to find the first even number in a list\n",
        "numbers = [1, 3, 5, 7, 8, 9, 10, 12, 14]\n",
        "\n",
        "for num in numbers:\n",
        "    if num % 2 == 0:  # Check if the number is even\n",
        "        print(\"The first even number in the list is:\", num)\n",
        "        break  # Exit the loop once the first even number is found\n"
      ],
      "metadata": {
        "colab": {
          "base_uri": "https://localhost:8080/"
        },
        "id": "BdSxJJUo5fkW",
        "outputId": "c1147777-d434-4f66-e248-2025e695c7a7"
      },
      "execution_count": 5,
      "outputs": [
        {
          "output_type": "stream",
          "name": "stdout",
          "text": [
            "The first even number in the list is: 8\n"
          ]
        }
      ]
    },
    {
      "cell_type": "code",
      "source": [
        "# Except\n",
        "try:\n",
        "    x = 10 / 0  # Attempting division by zero\n",
        "    print(x)\n",
        "except ZeroDivisionError:  # Handling division by zero error\n",
        "    print(\"Error: Cannot divide by zero.\")\n"
      ],
      "metadata": {
        "colab": {
          "base_uri": "https://localhost:8080/"
        },
        "id": "SbAEJI1551Rq",
        "outputId": "504643ee-b6d3-410f-d5a2-cc22cc140fc8"
      },
      "execution_count": 6,
      "outputs": [
        {
          "output_type": "stream",
          "name": "stdout",
          "text": [
            "Error: Cannot divide by zero.\n"
          ]
        }
      ]
    },
    {
      "cell_type": "code",
      "source": [
        "# In\n",
        "\n",
        "# Define a list of fruits\n",
        "fruits = [\"apple\", \"banana\", \"orange\", \"grape\"]\n",
        "\n",
        "# Check if banana is in the list of fruits\n",
        "if \"banana\" in fruits:\n",
        "    print(\"Yes, banana is in the list of fruits.\")\n",
        "else:\n",
        "    print(\"No, banana is not in the list of fruits.\")\n",
        "\n",
        "# Check if kiwi is in the list of fruits\n",
        "if \"kiwi\" in fruits:\n",
        "    print(\"Yes, kiwi is in the list of fruits.\")\n",
        "else:\n",
        "    print(\"No, kiwi is not in the list of fruits.\")\n"
      ],
      "metadata": {
        "colab": {
          "base_uri": "https://localhost:8080/"
        },
        "id": "ipeAyuEt6HJs",
        "outputId": "97424b64-16d5-46b6-d97b-1985c3afdae4"
      },
      "execution_count": 7,
      "outputs": [
        {
          "output_type": "stream",
          "name": "stdout",
          "text": [
            "Yes, banana is in the list of fruits.\n",
            "No, kiwi is not in the list of fruits.\n"
          ]
        }
      ]
    },
    {
      "cell_type": "code",
      "source": [
        "# Raise\n",
        "\n",
        "def divide(x, y):\n",
        "    if y == 0:\n",
        "        raise ZeroDivisionError(\"Division by zero is not allowed.\")\n",
        "    return x / y\n",
        "\n",
        "try:\n",
        "    result = divide(10, 0)\n",
        "    print(\"Result of division:\", result)\n",
        "except ZeroDivisionError as e:\n",
        "    print(\"Error:\", e)\n"
      ],
      "metadata": {
        "colab": {
          "base_uri": "https://localhost:8080/"
        },
        "id": "B-FDXSyH6Le0",
        "outputId": "1e7dc4c9-5d95-4f85-87d3-5e19dd450968"
      },
      "execution_count": 8,
      "outputs": [
        {
          "output_type": "stream",
          "name": "stdout",
          "text": [
            "Error: Division by zero is not allowed.\n"
          ]
        }
      ]
    },
    {
      "cell_type": "code",
      "source": [
        "# False\n",
        "\n",
        "# Assigning False to a variable\n",
        "is_raining = False\n",
        "\n",
        "if is_raining:\n",
        "    print(\"Don't forget your umbrella!\")\n",
        "else:\n",
        "    print(\"No need for an umbrella today.\")\n"
      ],
      "metadata": {
        "colab": {
          "base_uri": "https://localhost:8080/"
        },
        "id": "OpBIFm3X6VuS",
        "outputId": "f233bd9c-8b5d-4bc2-ef91-d6dcd590c6f2"
      },
      "execution_count": 9,
      "outputs": [
        {
          "output_type": "stream",
          "name": "stdout",
          "text": [
            "No need for an umbrella today.\n"
          ]
        }
      ]
    },
    {
      "cell_type": "code",
      "source": [
        "# awhile\n",
        "\n",
        "import asyncio\n",
        "\n",
        "# Define an asynchronous function\n",
        "async def greet():\n",
        "    print(\"Hello\")\n",
        "    await asyncio.sleep(1)  # Asynchronous sleep for 1 second\n",
        "    print(\"World!\")\n",
        "\n",
        "# Run the asynchronous function\n",
        "async def main():\n",
        "    await greet()\n",
        "\n",
        "# Run the asyncio event loop\n",
        "if __name__ == \"__main__\":\n",
        "    asyncio.run(main())\n",
        "\n"
      ],
      "metadata": {
        "colab": {
          "base_uri": "https://localhost:8080/",
          "height": 315
        },
        "id": "_tLSntY38KIm",
        "outputId": "3994a3cb-6ee9-431b-d8cf-a9c92039fe2c"
      },
      "execution_count": 11,
      "outputs": [
        {
          "output_type": "error",
          "ename": "RuntimeError",
          "evalue": "asyncio.run() cannot be called from a running event loop",
          "traceback": [
            "\u001b[0;31m---------------------------------------------------------------------------\u001b[0m",
            "\u001b[0;31mRuntimeError\u001b[0m                              Traceback (most recent call last)",
            "\u001b[0;32m<ipython-input-11-a97a5a94df03>\u001b[0m in \u001b[0;36m<cell line: 16>\u001b[0;34m()\u001b[0m\n\u001b[1;32m     15\u001b[0m \u001b[0;31m# Run the asyncio event loop\u001b[0m\u001b[0;34m\u001b[0m\u001b[0;34m\u001b[0m\u001b[0m\n\u001b[1;32m     16\u001b[0m \u001b[0;32mif\u001b[0m \u001b[0m__name__\u001b[0m \u001b[0;34m==\u001b[0m \u001b[0;34m\"__main__\"\u001b[0m\u001b[0;34m:\u001b[0m\u001b[0;34m\u001b[0m\u001b[0;34m\u001b[0m\u001b[0m\n\u001b[0;32m---> 17\u001b[0;31m     \u001b[0masyncio\u001b[0m\u001b[0;34m.\u001b[0m\u001b[0mrun\u001b[0m\u001b[0;34m(\u001b[0m\u001b[0mmain\u001b[0m\u001b[0;34m(\u001b[0m\u001b[0;34m)\u001b[0m\u001b[0;34m)\u001b[0m\u001b[0;34m\u001b[0m\u001b[0;34m\u001b[0m\u001b[0m\n\u001b[0m\u001b[1;32m     18\u001b[0m \u001b[0;34m\u001b[0m\u001b[0m\n",
            "\u001b[0;32m/usr/lib/python3.10/asyncio/runners.py\u001b[0m in \u001b[0;36mrun\u001b[0;34m(main, debug)\u001b[0m\n\u001b[1;32m     31\u001b[0m     \"\"\"\n\u001b[1;32m     32\u001b[0m     \u001b[0;32mif\u001b[0m \u001b[0mevents\u001b[0m\u001b[0;34m.\u001b[0m\u001b[0m_get_running_loop\u001b[0m\u001b[0;34m(\u001b[0m\u001b[0;34m)\u001b[0m \u001b[0;32mis\u001b[0m \u001b[0;32mnot\u001b[0m \u001b[0;32mNone\u001b[0m\u001b[0;34m:\u001b[0m\u001b[0;34m\u001b[0m\u001b[0;34m\u001b[0m\u001b[0m\n\u001b[0;32m---> 33\u001b[0;31m         raise RuntimeError(\n\u001b[0m\u001b[1;32m     34\u001b[0m             \"asyncio.run() cannot be called from a running event loop\")\n\u001b[1;32m     35\u001b[0m \u001b[0;34m\u001b[0m\u001b[0m\n",
            "\u001b[0;31mRuntimeError\u001b[0m: asyncio.run() cannot be called from a running event loop"
          ]
        }
      ]
    },
    {
      "cell_type": "code",
      "source": [
        "# Else\n",
        "\n",
        "x = 10\n",
        "\n",
        "if x > 5:\n",
        "    print(\"x is greater than 5\")\n",
        "else:\n",
        "    print(\"x is not greater than 5\")\n"
      ],
      "metadata": {
        "id": "_ieCw0rU8QvM"
      },
      "execution_count": null,
      "outputs": []
    },
    {
      "cell_type": "code",
      "source": [
        "# import\n",
        "\n",
        "import math\n",
        "\n",
        "# Using math module to calculate the square root of a number\n",
        "number = 25\n",
        "sqrt_result = math.sqrt(number)\n",
        "print(\"Square root of\", number, \"is\", sqrt_result)\n",
        "\n",
        "# Using math module to calculate the factorial of a number\n",
        "factorial_result = math.factorial(5)\n",
        "print(\"Factorial of 5 is\", factorial_result)\n"
      ],
      "metadata": {
        "id": "6o5PzO1F9qxP"
      },
      "execution_count": null,
      "outputs": []
    },
    {
      "cell_type": "code",
      "source": [
        "# pass\n",
        "\n",
        "# Function that does nothing but has a placeholder using pass\n",
        "def do_nothing():\n",
        "    pass\n",
        "\n",
        "# Loop through a list and do something if the element is even\n",
        "numbers = [1, 2, 3, 4, 5]\n",
        "for num in numbers:\n",
        "    if num % 2 == 0:\n",
        "        print(num, \"is even\")\n",
        "    else:\n",
        "        pass  # Do nothing for odd numbers\n"
      ],
      "metadata": {
        "id": "3QA7zeC89sBy"
      },
      "execution_count": null,
      "outputs": []
    },
    {
      "cell_type": "code",
      "source": [
        "# and\n",
        "\n",
        "# Checking if a number is both greater than 5 and even\n",
        "number = 8\n",
        "\n",
        "if number > 5 and number % 2 == 0:\n",
        "    print(number, \"is greater than 5 and even.\")\n",
        "else:\n",
        "    print(number, \"doesn't meet the conditions.\")\n"
      ],
      "metadata": {
        "id": "rIvTlRud-PH7"
      },
      "execution_count": null,
      "outputs": []
    },
    {
      "cell_type": "code",
      "source": [
        "# continue\n",
        "\n",
        "# Printing only even numbers from a list\n",
        "numbers = [1, 2, 3, 4, 5, 6, 7, 8, 9, 10]\n",
        "\n",
        "print(\"Even numbers in the list:\")\n",
        "for num in numbers:\n",
        "    if num % 2 != 0:  # If the number is not even, skip it\n",
        "        continue\n",
        "    print(num)\n"
      ],
      "metadata": {
        "id": "B1mkkjWq-ahg"
      },
      "execution_count": null,
      "outputs": []
    },
    {
      "cell_type": "code",
      "source": [
        "# for\n",
        "\n",
        "# a list of names / printing each name\n",
        "names = [\"Alice\", \"Bob\", \"Charlie\", \"David\"]\n",
        "\n",
        "print(\"Printing names:\")\n",
        "for name in names:\n",
        "    print(name)\n"
      ],
      "metadata": {
        "id": "dfIFJTWc-84v"
      },
      "execution_count": null,
      "outputs": []
    },
    {
      "cell_type": "code",
      "source": [
        "# lambda\n",
        "\n",
        "# Using a lambda function to calculate the square of a number\n",
        "square = lambda x: x ** 2\n",
        "\n",
        "# Using the lambda function to compute square of a number\n",
        "result = square(5)\n",
        "print(\"Square of 5:\", result)\n"
      ],
      "metadata": {
        "id": "IqV6kZ6J_CNA"
      },
      "execution_count": null,
      "outputs": []
    },
    {
      "cell_type": "code",
      "source": [
        "# try\n",
        "\n",
        "# Trying to convert user input to an integer\n",
        "try:\n",
        "    user_input = input(\"Enter an integer: \")\n",
        "    number = int(user_input)\n",
        "    print(\"You entered:\", number)\n",
        "except ValueError:\n",
        "    print(\"Invalid input! Please enter a valid integer.\")\n"
      ],
      "metadata": {
        "id": "E_nVNPqJ_uVN"
      },
      "execution_count": null,
      "outputs": []
    },
    {
      "cell_type": "code",
      "source": [
        "# true\n",
        "\n",
        "# Using True in a conditional statement\n",
        "condition = True\n",
        "\n",
        "if condition:\n",
        "    print(\"The condition is true.\")\n",
        "else:\n",
        "    print(\"The condition is false.\")\n"
      ],
      "metadata": {
        "id": "GccIMWCwAFUL"
      },
      "execution_count": null,
      "outputs": []
    },
    {
      "cell_type": "code",
      "source": [
        "# class\n",
        "\n",
        "class Person:\n",
        "    def __init__(self, name, age):\n",
        "        self.name = name\n",
        "        self.age = age\n",
        "\n",
        "    def greet(self):\n",
        "        print(f\"Hello, my name is {self.name} and I am {self.age} years old.\")\n",
        "\n",
        "# Example usage:\n",
        "person1 = Person(\"Alice\", 30)\n",
        "person1.greet()\n",
        "\n",
        "person2 = Person(\"Bob\", 25)\n",
        "person2.greet()\n"
      ],
      "metadata": {
        "id": "lxevgetfAWwy"
      },
      "execution_count": null,
      "outputs": []
    },
    {
      "cell_type": "code",
      "source": [
        "# finally\n",
        "\n",
        "try:\n",
        "    numerator = int(input(\"Enter the numerator: \"))\n",
        "    denominator = int(input(\"Enter the denominator: \"))\n",
        "    result = numerator / denominator\n",
        "except ValueError:\n",
        "    print(\"Please enter valid integers.\")\n",
        "except ZeroDivisionError:\n",
        "    print(\"Cannot divide by zero.\")\n",
        "else:\n",
        "    print(\"Result:\", result)\n",
        "finally:\n",
        "    print(\"This is the finally block. It always executes, regardless of exceptions.\")\n"
      ],
      "metadata": {
        "id": "zOMOH3zpBBMJ"
      },
      "execution_count": null,
      "outputs": []
    },
    {
      "cell_type": "code",
      "source": [
        "# is\n",
        "\n",
        "# Define two lists with the same elements\n",
        "list1 = [1, 2, 3]\n",
        "list2 = [1, 2, 3]\n",
        "\n",
        "# Check if list1 is the same object as list2\n",
        "if list1 is list2:\n",
        "    print(\"list1 and list2 are the same object.\")\n",
        "else:\n",
        "    print(\"list1 and list2 are different objects.\")\n"
      ],
      "metadata": {
        "id": "fW-XCy19ClDb"
      },
      "execution_count": null,
      "outputs": []
    },
    {
      "cell_type": "code",
      "source": [
        "# return\n",
        "\n",
        "def add_numbers(a, b):\n",
        "    \"\"\"This function adds two numbers and returns the result.\"\"\"\n",
        "    result = a + b\n",
        "    return result\n",
        "\n",
        "# Call the function and store the returned value in a variable\n",
        "sum_result = add_numbers(5, 3)\n",
        "\n",
        "# Print the returned value\n",
        "print(\"The sum is:\", sum_result)\n"
      ],
      "metadata": {
        "id": "ZCUlKiOCC9jk"
      },
      "execution_count": null,
      "outputs": []
    },
    {
      "cell_type": "code",
      "source": [
        "# as\n",
        "\n",
        "# Importing the datetime module and giving it an alias 'dt'\n",
        "import datetime as dt\n",
        "\n",
        "# Using the alias 'dt' to access datetime functionalities\n",
        "current_date = dt.datetime.now()\n",
        "print(\"Current date and time:\", current_date)\n"
      ],
      "metadata": {
        "id": "LWorFZbcDASk"
      },
      "execution_count": null,
      "outputs": []
    },
    {
      "cell_type": "code",
      "source": [
        "# def\n",
        "\n",
        "def greet(name):\n",
        "    \"\"\"This function greets the user.\"\"\"\n",
        "    print(\"Hello,\", name)\n",
        "\n",
        "# Call the function\n",
        "greet(\"Alice\")\n"
      ],
      "metadata": {
        "id": "XRyt7JniDhv3"
      },
      "execution_count": null,
      "outputs": []
    },
    {
      "cell_type": "code",
      "source": [
        "# from\n",
        "\n",
        "# Importing the sqrt function from the math module\n",
        "from math import sqrt\n",
        "\n",
        "# Using the sqrt function directly without specifying the module name\n",
        "result = sqrt(25)\n",
        "print(\"Square root of 25 is:\", result)\n"
      ],
      "metadata": {
        "id": "XBtX-GdXD450"
      },
      "execution_count": null,
      "outputs": []
    },
    {
      "cell_type": "code",
      "source": [
        "# nonlocal\n",
        "\n",
        "def outer_function():\n",
        "    x = 10  # Outer function's variable\n",
        "\n",
        "    def inner_function():\n",
        "        nonlocal x\n",
        "        x = 20  # Modifying the outer function's variable\n",
        "        print(\"Inside inner_function, x is:\", x)\n",
        "\n",
        "    inner_function()\n",
        "    print(\"Outside inner_function, x is:\", x)\n",
        "\n",
        "outer_function()\n"
      ],
      "metadata": {
        "id": "O4H_tghsD7fY"
      },
      "execution_count": null,
      "outputs": []
    },
    {
      "cell_type": "code",
      "source": [
        "# while\n",
        "\n",
        "# Initialize a variable\n",
        "count = 0\n",
        "\n",
        "# Execute the while loop as long as count is less than 5\n",
        "while count < 5:\n",
        "    print(\"Count is:\", count)\n",
        "    count += 1  # Increment count by 1 in each iteration\n",
        "\n",
        "print(\"Loop finished.\")\n"
      ],
      "metadata": {
        "id": "PSzf4lO1EOBq"
      },
      "execution_count": null,
      "outputs": []
    },
    {
      "cell_type": "code",
      "source": [
        "# async\n",
        "\n",
        "import asyncio\n",
        "\n",
        "# Define an asynchronous function\n",
        "async def greet():\n",
        "    print(\"Hello\")\n",
        "    await asyncio.sleep(1)  # Asynchronous sleep for 1 second\n",
        "    print(\"World!\")\n",
        "\n",
        "# Run the asynchronous function\n",
        "async def main():\n",
        "    await greet()\n",
        "\n",
        "# Run the asyncio event loop\n",
        "asyncio.run(main())\n"
      ],
      "metadata": {
        "id": "BYB2jfxmEiQg"
      },
      "execution_count": null,
      "outputs": []
    },
    {
      "cell_type": "code",
      "source": [
        "# elif\n",
        "\n",
        "# Get the user's age as input\n",
        "age = int(input(\"Enter your age: \"))\n",
        "\n",
        "# Check different conditions based on age\n",
        "if age < 18:\n",
        "    print(\"You are a minor.\")\n",
        "elif age >= 18 and age < 65:\n",
        "    print(\"You are an adult.\")\n",
        "else:\n",
        "    print(\"You are a senior citizen.\")\n"
      ],
      "metadata": {
        "id": "1Sj1ZyACFxDc"
      },
      "execution_count": null,
      "outputs": []
    },
    {
      "cell_type": "code",
      "source": [
        "# if\n",
        "\n",
        "# Get the user's age as input\n",
        "age = int(input(\"Enter your age: \"))\n",
        "\n",
        "# Check if the user is an adult\n",
        "if age >= 18:\n",
        "    print(\"You are an adult.\")\n",
        "else:\n",
        "    print(\"You are not yet an adult.\")\n"
      ],
      "metadata": {
        "id": "1EK1tpSYGPH8"
      },
      "execution_count": null,
      "outputs": []
    },
    {
      "cell_type": "code",
      "source": [
        "# not\n",
        "\n",
        "# Define a boolean variable\n",
        "is_raining = True\n",
        "\n",
        "# Check if it's not raining\n",
        "if not is_raining:\n",
        "    print(\"It's not raining, so you can go for a walk.\")\n",
        "else:\n",
        "    print(\"It's raining, so you should stay indoors.\")\n",
        "\n"
      ],
      "metadata": {
        "id": "jhhELhEkGldt"
      },
      "execution_count": null,
      "outputs": []
    },
    {
      "cell_type": "code",
      "source": [
        "# with\n",
        "\n",
        "# Define a class that represents a custom resource\n",
        "class CustomResource:\n",
        "    def __init__(self):\n",
        "        print(\"CustomResource created.\")\n",
        "\n",
        "    def close(self):\n",
        "        print(\"CustomResource closed.\")\n",
        "\n",
        "# Use 'with' statement to manage the custom resource\n",
        "with CustomResource() as resource:\n",
        "    print(\"Using CustomResource.\")\n",
        "# CustomResource's 'close' method is automatically called when exiting the 'with' block\n"
      ],
      "metadata": {
        "id": "-z7FITsjGvxh"
      },
      "execution_count": null,
      "outputs": []
    },
    {
      "cell_type": "code",
      "source": [
        "# assert\n",
        "\n",
        "# Define a function to calculate the square of a number\n",
        "def square(x):\n",
        "    return x * x\n",
        "\n",
        "# Test the function using assert statements\n",
        "assert square(2) == 4, \"Square of 2 should be 4.\"\n",
        "assert square(3) == 9, \"Square of 3 should be 9.\"\n",
        "assert square(4) == 16, \"Square of 4 should be 16.\"\n",
        "\n",
        "print(\"All assertions passed.\")\n"
      ],
      "metadata": {
        "id": "2uQJfd85Hh6O"
      },
      "execution_count": null,
      "outputs": []
    },
    {
      "cell_type": "code",
      "source": [
        "# del\n",
        "\n",
        "# Define a list\n",
        "my_list = [1, 2, 3, 4, 5]\n",
        "\n",
        "# Delete an item from the list\n",
        "del my_list[2]  # Removes the item at index 2\n",
        "\n",
        "print(\"List after deleting an item:\", my_list)\n",
        "\n",
        "# Define a dictionary\n",
        "my_dict = {'a': 1, 'b': 2, 'c': 3}\n",
        "\n",
        "# Delete a key-value pair from the dictionary\n",
        "del my_dict['b']  # Removes the key-value pair with key 'b'\n",
        "\n",
        "print(\"Dictionary after deleting a key-value pair:\", my_dict)\n",
        "\n",
        "# Delete the entire reference to an object\n",
        "x = 10\n",
        "print(\"Before deleting:\", x)\n",
        "\n",
        "del x\n",
        "\n",
        "# This will raise a NameError since 'x' no longer exists\n",
        "print(\"After deleting:\", x)\n"
      ],
      "metadata": {
        "id": "2yx-hM8kHtwW"
      },
      "execution_count": null,
      "outputs": []
    },
    {
      "cell_type": "code",
      "source": [
        "# global\n",
        "\n",
        "# Define a global variable\n",
        "global_var = 10\n",
        "\n",
        "# Define a function that modifies the global variable\n",
        "def modify_global():\n",
        "    global global_var\n",
        "    global_var = 20\n",
        "\n",
        "# Print the global variable before and after calling the function\n",
        "print(\"Global variable before modification:\", global_var)\n",
        "modify_global()\n",
        "print(\"Global variable after modification:\", global_var)\n"
      ],
      "metadata": {
        "id": "BSh-mafqIILX"
      },
      "execution_count": null,
      "outputs": []
    },
    {
      "cell_type": "code",
      "source": [
        "# or\n",
        "\n",
        "# Define two variables\n",
        "x = 5\n",
        "y = 10\n",
        "\n",
        "# Check if at least one of the conditions is True\n",
        "if x < 0 or y < 0:\n",
        "    print(\"At least one of the numbers is negative.\")\n",
        "else:\n",
        "    print(\"Both numbers are positive.\")\n",
        "\n",
        "# Check if at least one of the conditions is True\n",
        "if x % 2 == 0 or y % 2 == 0:\n",
        "    print(\"At least one of the numbers is even.\")\n",
        "else:\n",
        "    print(\"Both numbers are odd.\")\n"
      ],
      "metadata": {
        "id": "0DB92ZomIlr7"
      },
      "execution_count": null,
      "outputs": []
    },
    {
      "cell_type": "code",
      "source": [
        "# yield\n",
        "\n",
        "def generate_numbers(n):\n",
        "    \"\"\"Generator function to generate numbers from 0 to n.\"\"\"\n",
        "    for i in range(n):\n",
        "        yield i\n",
        "\n",
        "# Using the generator function to generate numbers\n",
        "numbers_generator = generate_numbers(5)\n",
        "\n",
        "# Iterating over the generator to get the generated numbers\n",
        "for num in numbers_generator:\n",
        "    print(num)\n"
      ],
      "metadata": {
        "id": "ZiYTiWdZJP9Q"
      },
      "execution_count": null,
      "outputs": []
    }
  ]
}