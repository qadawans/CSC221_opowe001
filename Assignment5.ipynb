{
  "nbformat": 4,
  "nbformat_minor": 0,
  "metadata": {
    "colab": {
      "provenance": [],
      "authorship_tag": "ABX9TyPDLrCaO7hJu2TTL4Yfc3y0",
      "include_colab_link": true
    },
    "kernelspec": {
      "name": "python3",
      "display_name": "Python 3"
    },
    "language_info": {
      "name": "python"
    }
  },
  "cells": [
    {
      "cell_type": "markdown",
      "metadata": {
        "id": "view-in-github",
        "colab_type": "text"
      },
      "source": [
        "<a href=\"https://colab.research.google.com/github/qadawans/CSC221_opowe001/blob/main/Assignment5.ipynb\" target=\"_parent\"><img src=\"https://colab.research.google.com/assets/colab-badge.svg\" alt=\"Open In Colab\"/></a>"
      ]
    },
    {
      "cell_type": "code",
      "execution_count": null,
      "metadata": {
        "colab": {
          "base_uri": "https://localhost:8080/"
        },
        "id": "eyIuhHwknB7w",
        "outputId": "d70d302c-8400-435f-ae22-d14934eeccaf"
      },
      "outputs": [
        {
          "output_type": "stream",
          "name": "stdout",
          "text": [
            "I like Pepperoni.\n",
            "I like Cheese.\n",
            "I like Four Cheese.\n",
            "I love pizza. I like pepperoni, cheese, and four cheese. My favorite topping is black olives. I love pizza so much!\n",
            "The three kinds of pizza are:\n",
            "Pepperoni\n",
            "Cheese\n",
            "Four Cheese\n"
          ]
        }
      ],
      "source": [
        "pizzas = ['Pepperoni', 'Cheese', 'Four Cheese']\n",
        "for pizza in pizzas:\n",
        "  print(f\"I like {pizza.title()}.\")\n",
        "\n",
        "print('I love pizza. I like pepperoni, cheese, and four cheese. My favorite topping is black olives. I love pizza so much!')\n",
        "\n",
        "print(\"The three kinds of pizza are:\")\n",
        "for pizza in pizzas[:3]:\n",
        "  print(pizza.title())\n",
        "\n",
        "print(\"The three kinds of pizza are:\")\n",
        "for pizza in pizzas[:3]:\n",
        "  print(pizza.title())\n",
        "\n",
        "  # This list only has 3 items so slicing it three more times would be the exact same."
      ]
    },
    {
      "cell_type": "code",
      "source": [
        "animals = ['Hamster', 'Guinea Pig', 'Mouse']\n",
        "for animal in animals:\n",
        "  print(f'A {animal.title()} would make such a cute pet.')\n",
        "print('I think these animals would be a good pet because they\\'re little.')"
      ],
      "metadata": {
        "colab": {
          "base_uri": "https://localhost:8080/"
        },
        "id": "cLGXQD0apg42",
        "outputId": "3bb8de5b-20ce-4fa2-ceed-77a0ec0906ae"
      },
      "execution_count": null,
      "outputs": [
        {
          "output_type": "stream",
          "name": "stdout",
          "text": [
            "A Hamster would make such a cute pet.\n",
            "A Guinea Pig would make such a cute pet.\n",
            "A Mouse would make such a cute pet.\n",
            "I think these animals would be a good pet because they're little.\n"
          ]
        }
      ]
    },
    {
      "cell_type": "code",
      "source": [
        "for value in range(1,21):\n",
        "  print(value)"
      ],
      "metadata": {
        "colab": {
          "base_uri": "https://localhost:8080/"
        },
        "id": "d8hYgex1q8M6",
        "outputId": "6189fea4-200a-473a-eb7a-ad6ea805bb03"
      },
      "execution_count": null,
      "outputs": [
        {
          "output_type": "stream",
          "name": "stdout",
          "text": [
            "1\n",
            "2\n",
            "3\n",
            "4\n",
            "5\n",
            "6\n",
            "7\n",
            "8\n",
            "9\n",
            "10\n",
            "11\n",
            "12\n",
            "13\n",
            "14\n",
            "15\n",
            "16\n",
            "17\n",
            "18\n",
            "19\n",
            "20\n"
          ]
        }
      ]
    },
    {
      "cell_type": "code",
      "source": [
        "# I did not do number 4 because it was basically the same as above and would probably have caused the system to crash"
      ],
      "metadata": {
        "id": "xNus1vkBrf3R"
      },
      "execution_count": null,
      "outputs": []
    },
    {
      "cell_type": "code",
      "source": [
        "numbers = list(range(1,1000001))\n",
        "min(numbers)\n",
        "max(numbers)\n",
        "sum(numbers)\n"
      ],
      "metadata": {
        "colab": {
          "base_uri": "https://localhost:8080/"
        },
        "id": "4bD7UOMarnjT",
        "outputId": "2b0918e0-9540-4e1e-9fc2-4052c02a4cc4"
      },
      "execution_count": null,
      "outputs": [
        {
          "output_type": "execute_result",
          "data": {
            "text/plain": [
              "500000500000"
            ]
          },
          "metadata": {},
          "execution_count": 14
        }
      ]
    },
    {
      "cell_type": "code",
      "source": [
        "odd_numbers = list(range(1,21))\n",
        "for even_number in even_numbers:\n",
        "    print(even_number)"
      ],
      "metadata": {
        "colab": {
          "base_uri": "https://localhost:8080/"
        },
        "id": "GAnGKgbYtlqN",
        "outputId": "a29aff29-c5f7-430a-f751-b849239e045d"
      },
      "execution_count": null,
      "outputs": [
        {
          "output_type": "stream",
          "name": "stdout",
          "text": [
            "1\n",
            "2\n",
            "3\n",
            "4\n",
            "5\n",
            "6\n",
            "7\n",
            "8\n",
            "9\n",
            "10\n",
            "11\n",
            "12\n",
            "13\n",
            "14\n",
            "15\n",
            "16\n",
            "17\n",
            "18\n",
            "19\n",
            "20\n"
          ]
        }
      ]
    },
    {
      "cell_type": "code",
      "source": [
        "threes = list(range(3, 30, 3))\n",
        "for three in threes:\n",
        "  print(three)"
      ],
      "metadata": {
        "colab": {
          "base_uri": "https://localhost:8080/"
        },
        "id": "pZ83EQYVvYPQ",
        "outputId": "0fe01aba-3a1d-4225-f6fe-4e1d13cebc61"
      },
      "execution_count": null,
      "outputs": [
        {
          "output_type": "stream",
          "name": "stdout",
          "text": [
            "3\n",
            "6\n",
            "9\n",
            "12\n",
            "15\n",
            "18\n",
            "21\n",
            "24\n",
            "27\n"
          ]
        }
      ]
    },
    {
      "cell_type": "code",
      "source": [
        "cubes = [value**3 for value in range(1,11)]\n",
        "for cube in cubes:\n",
        "  print(cube)"
      ],
      "metadata": {
        "colab": {
          "base_uri": "https://localhost:8080/"
        },
        "id": "PsWyQIGfzNos",
        "outputId": "0479f47b-c0d6-436f-89d8-aee237a89189"
      },
      "execution_count": null,
      "outputs": [
        {
          "output_type": "stream",
          "name": "stdout",
          "text": [
            "1\n",
            "8\n",
            "27\n",
            "64\n",
            "125\n",
            "216\n",
            "343\n",
            "512\n",
            "729\n",
            "1000\n"
          ]
        }
      ]
    },
    {
      "cell_type": "code",
      "source": [
        "# 4-11 feels redundant after completing assignment number 4. Same goes for 4-12. I've used for loops in this entire assignment."
      ],
      "metadata": {
        "id": "DrQNVnYM1qC2"
      },
      "execution_count": null,
      "outputs": []
    },
    {
      "cell_type": "code",
      "source": [
        "buffets = ('chicken', 'spaghetti', 'tacos', 'pizza')\n",
        "for buffet in buffets:\n",
        "  print(buffet)\n",
        "\n",
        "buffets = ('chicken', 'macaroni', 'sushi', 'pizza')\n",
        "print('\\nModified buffets:')\n",
        "for buffet in buffets:\n",
        "  print(buffet)\n",
        "\n",
        "# You can't modify tuples\n"
      ],
      "metadata": {
        "colab": {
          "base_uri": "https://localhost:8080/"
        },
        "id": "FDr3djsB3CyS",
        "outputId": "5ae3c8f4-31e5-4f9c-cc36-891b22dcd36c"
      },
      "execution_count": null,
      "outputs": [
        {
          "output_type": "stream",
          "name": "stdout",
          "text": [
            "chicken\n",
            "spaghetti\n",
            "tacos\n",
            "pizza\n",
            "\n",
            "Modified buffets:\n",
            "chicken\n",
            "macaroni\n",
            "sushi\n",
            "pizza\n"
          ]
        }
      ]
    },
    {
      "cell_type": "code",
      "source": [
        "def factorial(n):\n",
        "    if n < 0:\n",
        "        return None  # Factorial is undefined for negative numbers\n",
        "    elif n == 0:\n",
        "        return 1  # Factorial of 0 is 1\n",
        "    else:\n",
        "        factorial_list = list(range(1, n+1))  # Create a list of numbers from 1 to n\n",
        "        result = 1\n",
        "        for num in factorial_list:\n",
        "            result *= num  # Multiply each number in the list to calculate factorial\n",
        "        return result\n"
      ],
      "metadata": {
        "id": "wSB2DQh2BHL0"
      },
      "execution_count": null,
      "outputs": []
    },
    {
      "cell_type": "code",
      "source": [
        "my_list = list(range(1,n))\n",
        "\n",
        "product = 1\n",
        "\n",
        "for x in my_list:\n",
        "  product = product * x\n",
        "print(product)\n",
        "\n"
      ],
      "metadata": {
        "colab": {
          "base_uri": "https://localhost:8080/"
        },
        "id": "QnWHu2TcBXoC",
        "outputId": "86ca96b3-c78f-4130-e1f4-1df423c1cf86"
      },
      "execution_count": null,
      "outputs": [
        {
          "output_type": "stream",
          "name": "stdout",
          "text": [
            "24\n"
          ]
        }
      ]
    },
    {
      "cell_type": "code",
      "source": [
        "def factorial(n):\n",
        "    my_list = list(range(1, n+1))\n",
        "    product = 1\n",
        "    for x in my_list:\n",
        "        product = product * x\n",
        "    return product\n",
        "\n",
        "\n",
        "print(factorial(5))\n",
        "print(factorial(10))\n",
        "print(factorial(20))\n",
        "print(factorial(50))"
      ],
      "metadata": {
        "colab": {
          "base_uri": "https://localhost:8080/"
        },
        "id": "DAfl5rbEChWg",
        "outputId": "9cd76043-e6b2-4c9c-92c4-93f76643afa2"
      },
      "execution_count": null,
      "outputs": [
        {
          "output_type": "stream",
          "name": "stdout",
          "text": [
            "120\n",
            "3628800\n",
            "2432902008176640000\n",
            "30414093201713378043612608166064768844377641568960512000000000000\n"
          ]
        }
      ]
    },
    {
      "cell_type": "code",
      "source": [
        "def special_factorial(n):\n",
        "    my_list = list(range(1, n+1))\n",
        "    product = 1\n",
        "    for x in my_list:\n",
        "        product = product * x\n",
        "    return product\n",
        "\n",
        "# Can't be removed because they're not in the list\n",
        "# my_list.remove(4)\n",
        "#my_list.remove(13)\n",
        "# my_list.remove(22)\n",
        "\n",
        "print(special_factorial(5))\n",
        "print(special_factorial(10))\n",
        "print(special_factorial(20))\n",
        "print(special_factorial(50))"
      ],
      "metadata": {
        "colab": {
          "base_uri": "https://localhost:8080/"
        },
        "id": "iQmbxIRVHO_W",
        "outputId": "07ccbc2e-ac57-4d54-9596-39f5fd3d591b"
      },
      "execution_count": 53,
      "outputs": [
        {
          "output_type": "stream",
          "name": "stdout",
          "text": [
            "120\n",
            "3628800\n",
            "2432902008176640000\n",
            "30414093201713378043612608166064768844377641568960512000000000000\n"
          ]
        }
      ]
    }
  ]
}