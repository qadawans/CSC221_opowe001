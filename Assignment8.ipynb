{
  "nbformat": 4,
  "nbformat_minor": 0,
  "metadata": {
    "colab": {
      "provenance": [],
      "authorship_tag": "ABX9TyNSjC+2MNcBqu9JdizGZ2+0",
      "include_colab_link": true
    },
    "kernelspec": {
      "name": "python3",
      "display_name": "Python 3"
    },
    "language_info": {
      "name": "python"
    }
  },
  "cells": [
    {
      "cell_type": "markdown",
      "metadata": {
        "id": "view-in-github",
        "colab_type": "text"
      },
      "source": [
        "<a href=\"https://colab.research.google.com/github/qadawans/CSC221_opowe001/blob/main/Assignment8.ipynb\" target=\"_parent\"><img src=\"https://colab.research.google.com/assets/colab-badge.svg\" alt=\"Open In Colab\"/></a>"
      ]
    },
    {
      "cell_type": "code",
      "execution_count": 5,
      "metadata": {
        "colab": {
          "base_uri": "https://localhost:8080/"
        },
        "id": "wSnCXGg9GaZk",
        "outputId": "4b8a114b-817c-436b-ae73-d77f2e4970be"
      },
      "outputs": [
        {
          "output_type": "stream",
          "name": "stdout",
          "text": [
            "One of my favorite books is The Last Olympian\n"
          ]
        }
      ],
      "source": [
        "# 8-2\n",
        "\n",
        "def favorite_book(title):\n",
        "  print(f\"One of my favorite books is {title.title()}\")\n",
        "\n",
        "favorite_book('The Last Olympian')"
      ]
    },
    {
      "cell_type": "code",
      "source": [
        "# 8-3\n",
        "\n",
        "def make_shirt(size, text):\n",
        "  print(f\"The size of the shirt is {size}, and it says {text}.\")\n",
        "\n",
        "make_shirt('small', 'Its my birthday')\n",
        "\n",
        "\n",
        "make_shirt(size= 'small', text= 'Its my birthday')\n",
        "\n"
      ],
      "metadata": {
        "colab": {
          "base_uri": "https://localhost:8080/"
        },
        "id": "fZcNpZFzJNvc",
        "outputId": "64ffeb9e-098c-4990-82f4-706179394d9b"
      },
      "execution_count": 10,
      "outputs": [
        {
          "output_type": "stream",
          "name": "stdout",
          "text": [
            "The size of the shirt is small, and it says Its my birthday.\n",
            "The size of the shirt is small, and it says Its my birthday.\n"
          ]
        }
      ]
    },
    {
      "cell_type": "code",
      "source": [
        "# 8-4\n",
        "\n",
        "def make_shirt(size='large', text='i love python'):\n",
        "  print(f\"The size of the shirt is {size}, and it says {text}.\")\n",
        "\n",
        "make_shirt()\n",
        "\n",
        "make_shirt(size='medium')\n",
        "make_shirt(size='small', text='hello, world!')\n",
        "\n"
      ],
      "metadata": {
        "colab": {
          "base_uri": "https://localhost:8080/"
        },
        "id": "vnRY3YSQuV_X",
        "outputId": "29fc548b-408a-4e35-d382-e0132508f05d"
      },
      "execution_count": 20,
      "outputs": [
        {
          "output_type": "stream",
          "name": "stdout",
          "text": [
            "The size of the shirt is large, and it says i love python.\n",
            "The size of the shirt is medium, and it says i love python.\n",
            "The size of the shirt is small, and it says hello, world!.\n"
          ]
        }
      ]
    },
    {
      "cell_type": "code",
      "source": [
        "# Pseudocode\n",
        "\n",
        "# Define function and separate arguments with commas\n",
        "# Within the define line, set c = to 42\n",
        "\n",
        "def func8(a, b, c='42'):\n",
        "  sum = a + b + int(c)\n",
        "  product = a * b * int(c)\n",
        "  nums = [a, b, int(c)]\n",
        "  nums.sort()\n",
        "  return [sum, product, nums]\n",
        "\n",
        "print(func8(10, 20))\n",
        "print(func8(20, 30))\n",
        "print(func8(-5, 30))"
      ],
      "metadata": {
        "colab": {
          "base_uri": "https://localhost:8080/"
        },
        "id": "Q8DGeHslwtzZ",
        "outputId": "242cc357-ffb8-4627-fa77-2448b8022dff"
      },
      "execution_count": 33,
      "outputs": [
        {
          "output_type": "stream",
          "name": "stdout",
          "text": [
            "[72, 8400, [10, 20, 42]]\n",
            "[92, 25200, [20, 30, 42]]\n",
            "[67, -6300, [-5, 30, 42]]\n"
          ]
        }
      ]
    }
  ]
}