{
  "nbformat": 4,
  "nbformat_minor": 0,
  "metadata": {
    "colab": {
      "provenance": [],
      "authorship_tag": "ABX9TyPu7qYD4Qlv9dxZkQyU/D9o",
      "include_colab_link": true
    },
    "kernelspec": {
      "name": "python3",
      "display_name": "Python 3"
    },
    "language_info": {
      "name": "python"
    }
  },
  "cells": [
    {
      "cell_type": "markdown",
      "metadata": {
        "id": "view-in-github",
        "colab_type": "text"
      },
      "source": [
        "<a href=\"https://colab.research.google.com/github/qadawans/CSC221_opowe001/blob/main/class02.ipynb\" target=\"_parent\"><img src=\"https://colab.research.google.com/assets/colab-badge.svg\" alt=\"Open In Colab\"/></a>"
      ]
    },
    {
      "cell_type": "code",
      "execution_count": null,
      "metadata": {
        "colab": {
          "base_uri": "https://localhost:8080/"
        },
        "id": "TS8d9gDOMpyH",
        "outputId": "7dabb146-c2e1-493b-a7ed-591651a1a67c"
      },
      "outputs": [
        {
          "output_type": "stream",
          "name": "stdout",
          "text": [
            "13 12.21 25.21\n"
          ]
        }
      ],
      "source": [
        "a = 13\n",
        "b = 12.21\n",
        "total = a + b\n",
        "print(a, b, a+b)"
      ]
    },
    {
      "cell_type": "code",
      "source": [
        "a = 15\n",
        "b = 11.21\n",
        "total = a + b\n",
        "print(a, b, a+b)"
      ],
      "metadata": {
        "colab": {
          "base_uri": "https://localhost:8080/"
        },
        "id": "PN1bmzJXM-0P",
        "outputId": "bdef133b-d8e5-4da2-f1dd-08a833d7ad88"
      },
      "execution_count": null,
      "outputs": [
        {
          "output_type": "stream",
          "name": "stdout",
          "text": [
            "15 11.21 26.21\n"
          ]
        }
      ]
    }
  ]
}