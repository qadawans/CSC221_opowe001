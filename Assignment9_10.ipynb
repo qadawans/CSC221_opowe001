{
  "nbformat": 4,
  "nbformat_minor": 0,
  "metadata": {
    "colab": {
      "provenance": [],
      "authorship_tag": "ABX9TyOUwDolpE5ROqBJxgyb5xxu",
      "include_colab_link": true
    },
    "kernelspec": {
      "name": "python3",
      "display_name": "Python 3"
    },
    "language_info": {
      "name": "python"
    }
  },
  "cells": [
    {
      "cell_type": "markdown",
      "metadata": {
        "id": "view-in-github",
        "colab_type": "text"
      },
      "source": [
        "<a href=\"https://colab.research.google.com/github/qadawans/CSC221_opowe001/blob/main/Assignment9_10.ipynb\" target=\"_parent\"><img src=\"https://colab.research.google.com/assets/colab-badge.svg\" alt=\"Open In Colab\"/></a>"
      ]
    },
    {
      "cell_type": "code",
      "execution_count": null,
      "metadata": {
        "id": "c3pYbm3Hcs4q"
      },
      "outputs": [],
      "source": [
        "# Function 1\n",
        "\n",
        "# Multiplication\n",
        "\n",
        "# This function will take two numbers and multiply them."
      ]
    },
    {
      "cell_type": "code",
      "source": [
        "# Function 1\n",
        "\n",
        "def multiply(a, b):\n",
        "  return a * b\n",
        "# This function has two arguments that when defined, will be multiplied. The function will return the product."
      ],
      "metadata": {
        "id": "VHmXqLVhdFfp"
      },
      "execution_count": null,
      "outputs": []
    },
    {
      "cell_type": "code",
      "source": [
        "# Function 1\n",
        "\n",
        "def multiply(a, b):\n",
        "  return a * b\n",
        "\n",
        "result = multiply(5, 6)\n",
        "print(result)\n",
        "result = multiply(2, 3)\n",
        "print(result)\n",
        "result = multiply(7, 10)\n",
        "print(result)"
      ],
      "metadata": {
        "colab": {
          "base_uri": "https://localhost:8080/"
        },
        "id": "ZcvYzTpEdXq7",
        "outputId": "c5dc6f8e-aa5c-426b-bf44-c40b247c0149"
      },
      "execution_count": 6,
      "outputs": [
        {
          "output_type": "stream",
          "name": "stdout",
          "text": [
            "30\n",
            "6\n",
            "70\n"
          ]
        }
      ]
    },
    {
      "cell_type": "code",
      "source": [
        "# Function 2\n",
        "\n",
        "# Addition and Subtraction\n",
        "\n",
        "# This function will add and subtract."
      ],
      "metadata": {
        "id": "_QridTEIeToB"
      },
      "execution_count": 7,
      "outputs": []
    },
    {
      "cell_type": "code",
      "source": [
        "# Function 2\n",
        "\n",
        "def add_sub(a, b):\n",
        "  add = a + b\n",
        "  sub = a - b\n",
        "  sub1 = b - a\n",
        "  return [add, sub, sub1]\n",
        "\n",
        "# This function will add the numbers and subtract them in both orders. It will return the answers to the user."
      ],
      "metadata": {
        "id": "ZMKPVv82emc2"
      },
      "execution_count": null,
      "outputs": []
    },
    {
      "cell_type": "code",
      "source": [
        "# Function 2\n",
        "\n",
        "def add_sub(a, b):\n",
        "  add = a + b\n",
        "  sub = a - b\n",
        "  sub1 = b - a\n",
        "  return [add, sub, sub1]\n",
        "\n",
        "result = add_sub(2, 4)\n",
        "print(result)\n",
        "result = add_sub(6, 2)\n",
        "print(result)\n",
        "result = add_sub(10, 20)\n",
        "print(result)"
      ],
      "metadata": {
        "colab": {
          "base_uri": "https://localhost:8080/"
        },
        "id": "eXmrV0OzfQ3O",
        "outputId": "a4171504-b6ec-4934-8504-a5b8a8902cb6"
      },
      "execution_count": 10,
      "outputs": [
        {
          "output_type": "stream",
          "name": "stdout",
          "text": [
            "[6, -2, 2]\n",
            "[8, 4, -4]\n",
            "[30, -10, 10]\n"
          ]
        }
      ]
    },
    {
      "cell_type": "code",
      "source": [
        "# Function 3\n",
        "\n",
        "# Sorting\n",
        "\n",
        "# This function will sort a list of numbers in order."
      ],
      "metadata": {
        "id": "6SyMHoPeg66H"
      },
      "execution_count": null,
      "outputs": []
    },
    {
      "cell_type": "code",
      "source": [
        "# Function 3\n",
        "\n",
        "def sort_list(a, b, c, d, e):\n",
        "    nums = (a, b, c, d, e)\n",
        "    sorted_nums = sorted(nums)\n",
        "    return sorted_nums\n",
        "\n",
        "# This function contains a list that will be sorted based on input, and then return it.\n"
      ],
      "metadata": {
        "id": "u6rhhL4uhL1e"
      },
      "execution_count": 11,
      "outputs": []
    },
    {
      "cell_type": "code",
      "source": [
        "# Function 3\n",
        "\n",
        "def sort_list(a, b, c, d, e):\n",
        "    nums = (a, b, c, d, e)\n",
        "    sorted_nums = sorted(nums)\n",
        "    return sorted_nums\n",
        "\n",
        "result = sort_list(1, 4, 9, 3, 2)\n",
        "print(result)\n",
        "result = sort_list(2, 7, 3, 0, 20)\n",
        "print(result)\n",
        "result = sort_list(3, 6, 30, 2, 5000)\n",
        "print(result)"
      ],
      "metadata": {
        "colab": {
          "base_uri": "https://localhost:8080/"
        },
        "id": "Sy16HJbkh5tQ",
        "outputId": "074ad01c-62f2-4564-ae8b-187193fce8e5"
      },
      "execution_count": 16,
      "outputs": [
        {
          "output_type": "stream",
          "name": "stdout",
          "text": [
            "[1, 2, 3, 4, 9]\n",
            "[0, 2, 3, 7, 20]\n",
            "[2, 3, 6, 30, 5000]\n"
          ]
        }
      ]
    },
    {
      "cell_type": "code",
      "source": [
        "# Function 4\n",
        "\n",
        "# Function 4 will do a sort of tricky calculation and return the result"
      ],
      "metadata": {
        "id": "eRp2rdmvl0bY"
      },
      "execution_count": null,
      "outputs": []
    },
    {
      "cell_type": "code",
      "source": [
        "# Function 4\n",
        "\n",
        "def tricky_math(a, b, c, d):\n",
        "  add = a + c\n",
        "  subtract = c - d\n",
        "  return add / subtract\n",
        "\n",
        "# This function takes 4 values, adds and subtracts two of them, and then divides the results of each"
      ],
      "metadata": {
        "id": "Aje_Mt8jiyN4"
      },
      "execution_count": null,
      "outputs": []
    },
    {
      "cell_type": "code",
      "source": [
        "# Function 4\n",
        "\n",
        "def tricky_math(a, b, c, d):\n",
        "  add = a + c\n",
        "  subtract = c - d\n",
        "  return add / subtract\n",
        "\n",
        "# These will be negative.\n",
        "result = tricky_math(1, 7, 5, 10)\n",
        "print(result)\n",
        "result = tricky_math(3, 10, 4, 30)\n",
        "print(result)\n",
        "result = tricky_math(20, 30, 40, 50)\n",
        "print(result)"
      ],
      "metadata": {
        "colab": {
          "base_uri": "https://localhost:8080/"
        },
        "id": "jkp9L3mUlfaL",
        "outputId": "bd655e46-2747-47f2-fb0b-b341134e7b87"
      },
      "execution_count": 19,
      "outputs": [
        {
          "output_type": "stream",
          "name": "stdout",
          "text": [
            "-1.2\n",
            "-0.2692307692307692\n",
            "-6.0\n"
          ]
        }
      ]
    },
    {
      "cell_type": "code",
      "source": [
        "# Function 5\n",
        "\n",
        "# This function takes a list of words as an input and sorts them alphabetically"
      ],
      "metadata": {
        "id": "OT9bAW1Pmfgi"
      },
      "execution_count": null,
      "outputs": []
    },
    {
      "cell_type": "code",
      "source": [
        "# Function 5\n",
        "\n",
        "def sort_words(a, b, c, d, e):\n",
        "    words = (a, b, c, d, e)\n",
        "    sorted_words = sorted(words)\n",
        "    return sorted_words\n",
        "\n",
        "  # Like before, this function takes a list of arguments and expects inputs so it can be sorted.\n"
      ],
      "metadata": {
        "id": "F15iWpvZmolk"
      },
      "execution_count": null,
      "outputs": []
    },
    {
      "cell_type": "code",
      "source": [
        "# Function 5\n",
        "\n",
        "def sort_words(a, b, c, d, e):\n",
        "    words = (a, b, c, d, e)\n",
        "    sorted_words = sorted(words)\n",
        "    return sorted_words\n",
        "\n",
        "\n",
        "# This function will print the words alphabetically.\n",
        "result = sort_words(\"Hello\", \"World\", \"Cat\", \"Dog\", \"Mouse\")\n",
        "print(result)\n",
        "result = sort_words(\"Computer\", \"Keyboard\", \"Monitor\", \"Headset\", \"Mouse\")\n",
        "print(result)\n",
        "result = sort_words(\"Fork\", \"Knife\", \"Spork\", \"Spoon\", \"Napkin\")\n",
        "print(result)"
      ],
      "metadata": {
        "colab": {
          "base_uri": "https://localhost:8080/"
        },
        "id": "qChhZLFwm1SG",
        "outputId": "4c50dfeb-b63d-46bc-c0fb-ff04e9be7cd5"
      },
      "execution_count": 21,
      "outputs": [
        {
          "output_type": "stream",
          "name": "stdout",
          "text": [
            "['Cat', 'Dog', 'Hello', 'Mouse', 'World']\n",
            "['Computer', 'Headset', 'Keyboard', 'Monitor', 'Mouse']\n",
            "['Fork', 'Knife', 'Napkin', 'Spoon', 'Spork']\n"
          ]
        }
      ]
    },
    {
      "cell_type": "code",
      "source": [
        "# Function 6\n",
        "\n",
        "# This function will use a dictionary"
      ],
      "metadata": {
        "id": "PFJ3fTyDnyoh"
      },
      "execution_count": null,
      "outputs": []
    },
    {
      "cell_type": "code",
      "source": [
        "# Function 6\n",
        "\n",
        "def dictionary():\n",
        "    d = dict();\n",
        "    d['phrase'] = \"Hello, World!\"\n",
        "    d['x'] = 32\n",
        "    return d\n",
        "\n",
        "# This function will return multiple values from a dictionary"
      ],
      "metadata": {
        "id": "CK0Sa04JoAdA"
      },
      "execution_count": null,
      "outputs": []
    },
    {
      "cell_type": "code",
      "source": [
        "# Function 6\n",
        "\n",
        "def dictionary():\n",
        "    d = dict();\n",
        "    d['phrase'] = \"Hello, World!\"\n",
        "    d['x'] = 32\n",
        "    return d\n",
        "\n",
        "# This will print the words within the dictionary and tell what term they are assigned to.\n",
        "d = dictionary()\n",
        "print(d)"
      ],
      "metadata": {
        "colab": {
          "base_uri": "https://localhost:8080/"
        },
        "id": "S0adBMeEoqVx",
        "outputId": "e28c87ea-ae07-4602-a41d-36ec9d05b229"
      },
      "execution_count": 22,
      "outputs": [
        {
          "output_type": "stream",
          "name": "stdout",
          "text": [
            "{'phrase': 'Hello, World!', 'x': 32}\n"
          ]
        }
      ]
    },
    {
      "cell_type": "code",
      "source": [
        "# Function 7\n",
        "\n",
        "# This will solve a \"puzzle\", or a guessing game"
      ],
      "metadata": {
        "id": "Hq5Vz0I8piHd"
      },
      "execution_count": null,
      "outputs": []
    },
    {
      "cell_type": "code",
      "source": [
        "# Function 7\n",
        "\n",
        "import random\n",
        "\n",
        "def guessing_game():\n",
        "    # Generate a random number between 1 and 100\n",
        "    number = random.randint(1, 100)\n",
        "\n",
        "    while True:\n",
        "        guess = int(input(\"Enter your guess (between 1 and 100): \"))\n",
        "\n",
        "        if guess < number:\n",
        "            print(\"Too low! Try again.\")\n",
        "        elif guess > number:\n",
        "            print(\"Too high! Try again.\")\n",
        "        else:\n",
        "            print(\"Congratulations!\")\n",
        "            break\n",
        "\n",
        "# This function picks a random number and has the user guess\n"
      ],
      "metadata": {
        "id": "lsD4m404p9lP"
      },
      "execution_count": null,
      "outputs": []
    },
    {
      "cell_type": "code",
      "source": [
        "# Function 7\n",
        "\n",
        "import random\n",
        "\n",
        "def guessing_game():\n",
        "    number = random.randint(1, 100)\n",
        "\n",
        "    while True:\n",
        "        guess = int(input(\"Enter your guess (between 1 and 100): \"))\n",
        "\n",
        "        if guess < number:\n",
        "            print(\"Too low! Try again.\")\n",
        "        elif guess > number:\n",
        "            print(\"Too high! Try again.\")\n",
        "        else:\n",
        "            print(\"Congratulations!\")\n",
        "            break\n",
        "guessing_game()"
      ],
      "metadata": {
        "colab": {
          "base_uri": "https://localhost:8080/"
        },
        "id": "mFflW2_PqXv6",
        "outputId": "5216172c-b234-4b61-d8a5-78111b4be386"
      },
      "execution_count": 24,
      "outputs": [
        {
          "output_type": "stream",
          "name": "stdout",
          "text": [
            "Enter your guess (between 1 and 100): 12\n",
            "Too low! Try again.\n",
            "Enter your guess (between 1 and 100): 30\n",
            "Too low! Try again.\n",
            "Enter your guess (between 1 and 100): 70\n",
            "Too high! Try again.\n",
            "Enter your guess (between 1 and 100): 60\n",
            "Too high! Try again.\n",
            "Enter your guess (between 1 and 100): 50\n",
            "Too high! Try again.\n",
            "Enter your guess (between 1 and 100): 40\n",
            "Too high! Try again.\n",
            "Enter your guess (between 1 and 100): 30\n",
            "Too low! Try again.\n",
            "Enter your guess (between 1 and 100): 35\n",
            "Too low! Try again.\n",
            "Enter your guess (between 1 and 100): 37\n",
            "Too low! Try again.\n",
            "Enter your guess (between 1 and 100): 4\n",
            "Too low! Try again.\n",
            "Enter your guess (between 1 and 100): 39\n",
            "Congratulations!\n"
          ]
        }
      ]
    },
    {
      "cell_type": "code",
      "source": [
        "# Function 8\n",
        "\n",
        "# This function picks a random number and tells the user it is their lucky number."
      ],
      "metadata": {
        "id": "1yhOmQi7rTgT"
      },
      "execution_count": null,
      "outputs": []
    },
    {
      "cell_type": "code",
      "source": [
        "# Function 8\n",
        "import random\n",
        "\n",
        "def lucky():\n",
        "  number = random.randint(1,10)\n",
        "  print(f\"{number} is your lucky number!\")\n",
        "\n",
        "# The random number is generated and then the message is printed."
      ],
      "metadata": {
        "id": "F4KeUBu7r4iv"
      },
      "execution_count": 25,
      "outputs": []
    },
    {
      "cell_type": "code",
      "source": [
        "# Function 8\n",
        "\n",
        "import random\n",
        "\n",
        "def lucky():\n",
        "  number = random.randint(1,10)\n",
        "  print(f\"{number} is your lucky number!\")\n",
        "\n",
        "# Once the function runs, it will choose a random number and print the special message.\n",
        "lucky()"
      ],
      "metadata": {
        "colab": {
          "base_uri": "https://localhost:8080/"
        },
        "id": "VjkoOSQ3wSsi",
        "outputId": "95c6e32e-1b23-419a-8183-b875ae671a81"
      },
      "execution_count": 28,
      "outputs": [
        {
          "output_type": "stream",
          "name": "stdout",
          "text": [
            "5 is your lucky number!\n"
          ]
        }
      ]
    },
    {
      "cell_type": "code",
      "source": [
        "# Function 9\n",
        "\n",
        "# This function will calculate a person's age by asking for their birth year."
      ],
      "metadata": {
        "id": "4sRtr5jY0TL3"
      },
      "execution_count": null,
      "outputs": []
    },
    {
      "cell_type": "code",
      "source": [
        "# Function 9\n",
        "\n",
        "def calculate_age():\n",
        "  byear = int(input(\"Please enter your birth year.\"))\n",
        "  return 2024 - byear\n",
        "\n",
        "# It asks for the users birth year and then subtracts the current year from the birth year to get their age.\n"
      ],
      "metadata": {
        "id": "7nHC2_JswuGu"
      },
      "execution_count": null,
      "outputs": []
    },
    {
      "cell_type": "code",
      "source": [
        "# Function 9\n",
        "\n",
        "def calculate_age():\n",
        "  byear = int(input(\"Please enter your birth year. \"))\n",
        "  age = 2024 - byear\n",
        "  return age\n",
        "\n",
        "# While it's not entirely accurate, it will provide an estimate of their age.\n",
        "calculate_age()"
      ],
      "metadata": {
        "colab": {
          "base_uri": "https://localhost:8080/"
        },
        "id": "FqnuBb9L1GKO",
        "outputId": "8a4e8304-1050-4870-d1a5-feb521731685"
      },
      "execution_count": 32,
      "outputs": [
        {
          "name": "stdout",
          "output_type": "stream",
          "text": [
            "Please enter your birth year.2003\n"
          ]
        },
        {
          "output_type": "execute_result",
          "data": {
            "text/plain": [
              "21"
            ]
          },
          "metadata": {},
          "execution_count": 32
        }
      ]
    },
    {
      "cell_type": "code",
      "source": [
        "# Function 10\n",
        "\n",
        "def surprise_message():\n",
        "  choice = int(input(\"Please choose a number between 1-4 and you will get a surprise message. \"))\n",
        "\n",
        "  while True:\n",
        "      if choice == 1:\n",
        "        print(\"Hello, World!\")\n",
        "\n",
        "      elif choice == 2:\n",
        "        print(\"Good Morning!\")\n",
        "        break\n",
        "      elif choice == 3:\n",
        "        print(\"What's up?\")\n",
        "        break\n",
        "      elif choice == 4:\n",
        "        print(\"General Kenobi.\")\n",
        "        break\n",
        "      else:\n",
        "        print(\"Please enter a number between 1 and 4.\")\n",
        "\n",
        "    # The number the user chooses will return a specific message. If they don't enter a number within 1-4, they will be prompted to choose a different one."
      ],
      "metadata": {
        "id": "ZkuVlm1V3kE3"
      },
      "execution_count": 43,
      "outputs": []
    },
    {
      "cell_type": "code",
      "source": [
        "# Function 10\n",
        "\n",
        "def surprise_message():\n",
        "  choice = int(input(\"Please choose a number between 1-4 and you will get a surprise message. \"))\n",
        "\n",
        "  while True:\n",
        "      if choice == 1:\n",
        "        print(\"Hello, World!\")\n",
        "\n",
        "      elif choice == 2:\n",
        "        print(\"Good Morning!\")\n",
        "        break\n",
        "      elif choice == 3:\n",
        "        print(\"What's up?\")\n",
        "        break\n",
        "      elif choice == 4:\n",
        "        print(\"General Kenobi.\")\n",
        "        break\n",
        "      else:\n",
        "        print(\"Please enter a number between 1 and 4.\")\n",
        "\n",
        "# The function will print a message based on the number chosen.\n",
        "surprise_message()"
      ],
      "metadata": {
        "colab": {
          "base_uri": "https://localhost:8080/"
        },
        "id": "o78_IuG-E1YZ",
        "outputId": "6e2e0558-c95a-4b3b-dee4-0148791420ca"
      },
      "execution_count": 44,
      "outputs": [
        {
          "output_type": "stream",
          "name": "stdout",
          "text": [
            "Please choose a number between 1-4 and you will get a surprise message. 3\n",
            "What's up?\n"
          ]
        }
      ]
    }
  ]
}